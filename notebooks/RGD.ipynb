{
 "cells": [
  {
   "cell_type": "code",
   "execution_count": 1,
   "metadata": {},
   "outputs": [
    {
     "name": "stderr",
     "output_type": "stream",
     "text": [
      "Warning message:\n",
      "“package ‘tidyr’ was built under R version 3.4.4”"
     ]
    }
   ],
   "source": [
    "library(data.table)\n",
    "library(tidyr)"
   ]
  },
  {
   "cell_type": "code",
   "execution_count": 2,
   "metadata": {},
   "outputs": [],
   "source": [
    "rat_genes <- read.delim2(\"ftp://ftp.rgd.mcw.edu/pub/data_release/GENES_RAT.txt\", header = T, comment.char = \"#\", stringsAsFactors = F, na.strings = \"\", quote = \"\\\"\")\n",
    "setDT(rat_genes)"
   ]
  },
  {
   "cell_type": "code",
   "execution_count": 3,
   "metadata": {},
   "outputs": [
    {
     "data": {
      "text/html": [
       "<ol class=list-inline>\n",
       "\t<li>'GENE_RGD_ID'</li>\n",
       "\t<li>'SYMBOL'</li>\n",
       "\t<li>'NAME'</li>\n",
       "\t<li>'GENE_DESC'</li>\n",
       "\t<li>'CHROMOSOME_CELERA'</li>\n",
       "\t<li>'CHROMOSOME_3.1'</li>\n",
       "\t<li>'CHROMOSOME_3.4'</li>\n",
       "\t<li>'FISH_BAND'</li>\n",
       "\t<li>'START_POS_CELERA'</li>\n",
       "\t<li>'STOP_POS_CELERA'</li>\n",
       "\t<li>'STRAND_CELERA'</li>\n",
       "\t<li>'START_POS_3.1'</li>\n",
       "\t<li>'STOP_POS_3.1'</li>\n",
       "\t<li>'STRAND_3.1'</li>\n",
       "\t<li>'START_POS_3.4'</li>\n",
       "\t<li>'STOP_POS_3.4'</li>\n",
       "\t<li>'STRAND_3.4'</li>\n",
       "\t<li>'CURATED_REF_RGD_ID'</li>\n",
       "\t<li>'CURATED_REF_PUBMED_ID'</li>\n",
       "\t<li>'UNCURATED_PUBMED_ID'</li>\n",
       "\t<li>'NCBI_GENE_ID'</li>\n",
       "\t<li>'UNIPROT_ID'</li>\n",
       "\t<li>'GENE_REFSEQ_STATUS'</li>\n",
       "\t<li>'GENBANK_NUCLEOTIDE'</li>\n",
       "\t<li>'TIGR_ID'</li>\n",
       "\t<li>'GENBANK_PROTEIN'</li>\n",
       "\t<li>'UNIGENE_ID'</li>\n",
       "\t<li>'MARKER_RGD_ID'</li>\n",
       "\t<li>'MARKER_SYMBOL'</li>\n",
       "\t<li>'OLD_SYMBOL'</li>\n",
       "\t<li>'OLD_NAME'</li>\n",
       "\t<li>'QTL_RGD_ID'</li>\n",
       "\t<li>'QTL_SYMBOL'</li>\n",
       "\t<li>'NOMENCLATURE_STATUS'</li>\n",
       "\t<li>'SPLICE_RGD_ID'</li>\n",
       "\t<li>'SPLICE_SYMBOL'</li>\n",
       "\t<li>'GENE_TYPE'</li>\n",
       "\t<li>'ENSEMBL_ID'</li>\n",
       "\t<li>'GENE_REFSEQ_STATUS.1'</li>\n",
       "\t<li>'CHROMOSOME_5.0'</li>\n",
       "\t<li>'START_POS_5.0'</li>\n",
       "\t<li>'STOP_POS_5.0'</li>\n",
       "\t<li>'STRAND_5.0'</li>\n",
       "\t<li>'CHROMOSOME_6.0'</li>\n",
       "\t<li>'START_POS_6.0'</li>\n",
       "\t<li>'STOP_POS_6.0'</li>\n",
       "\t<li>'STRAND_6.0'</li>\n",
       "</ol>\n"
      ],
      "text/latex": [
       "\\begin{enumerate*}\n",
       "\\item 'GENE\\_RGD\\_ID'\n",
       "\\item 'SYMBOL'\n",
       "\\item 'NAME'\n",
       "\\item 'GENE\\_DESC'\n",
       "\\item 'CHROMOSOME\\_CELERA'\n",
       "\\item 'CHROMOSOME\\_3.1'\n",
       "\\item 'CHROMOSOME\\_3.4'\n",
       "\\item 'FISH\\_BAND'\n",
       "\\item 'START\\_POS\\_CELERA'\n",
       "\\item 'STOP\\_POS\\_CELERA'\n",
       "\\item 'STRAND\\_CELERA'\n",
       "\\item 'START\\_POS\\_3.1'\n",
       "\\item 'STOP\\_POS\\_3.1'\n",
       "\\item 'STRAND\\_3.1'\n",
       "\\item 'START\\_POS\\_3.4'\n",
       "\\item 'STOP\\_POS\\_3.4'\n",
       "\\item 'STRAND\\_3.4'\n",
       "\\item 'CURATED\\_REF\\_RGD\\_ID'\n",
       "\\item 'CURATED\\_REF\\_PUBMED\\_ID'\n",
       "\\item 'UNCURATED\\_PUBMED\\_ID'\n",
       "\\item 'NCBI\\_GENE\\_ID'\n",
       "\\item 'UNIPROT\\_ID'\n",
       "\\item 'GENE\\_REFSEQ\\_STATUS'\n",
       "\\item 'GENBANK\\_NUCLEOTIDE'\n",
       "\\item 'TIGR\\_ID'\n",
       "\\item 'GENBANK\\_PROTEIN'\n",
       "\\item 'UNIGENE\\_ID'\n",
       "\\item 'MARKER\\_RGD\\_ID'\n",
       "\\item 'MARKER\\_SYMBOL'\n",
       "\\item 'OLD\\_SYMBOL'\n",
       "\\item 'OLD\\_NAME'\n",
       "\\item 'QTL\\_RGD\\_ID'\n",
       "\\item 'QTL\\_SYMBOL'\n",
       "\\item 'NOMENCLATURE\\_STATUS'\n",
       "\\item 'SPLICE\\_RGD\\_ID'\n",
       "\\item 'SPLICE\\_SYMBOL'\n",
       "\\item 'GENE\\_TYPE'\n",
       "\\item 'ENSEMBL\\_ID'\n",
       "\\item 'GENE\\_REFSEQ\\_STATUS.1'\n",
       "\\item 'CHROMOSOME\\_5.0'\n",
       "\\item 'START\\_POS\\_5.0'\n",
       "\\item 'STOP\\_POS\\_5.0'\n",
       "\\item 'STRAND\\_5.0'\n",
       "\\item 'CHROMOSOME\\_6.0'\n",
       "\\item 'START\\_POS\\_6.0'\n",
       "\\item 'STOP\\_POS\\_6.0'\n",
       "\\item 'STRAND\\_6.0'\n",
       "\\end{enumerate*}\n"
      ],
      "text/markdown": [
       "1. 'GENE_RGD_ID'\n",
       "2. 'SYMBOL'\n",
       "3. 'NAME'\n",
       "4. 'GENE_DESC'\n",
       "5. 'CHROMOSOME_CELERA'\n",
       "6. 'CHROMOSOME_3.1'\n",
       "7. 'CHROMOSOME_3.4'\n",
       "8. 'FISH_BAND'\n",
       "9. 'START_POS_CELERA'\n",
       "10. 'STOP_POS_CELERA'\n",
       "11. 'STRAND_CELERA'\n",
       "12. 'START_POS_3.1'\n",
       "13. 'STOP_POS_3.1'\n",
       "14. 'STRAND_3.1'\n",
       "15. 'START_POS_3.4'\n",
       "16. 'STOP_POS_3.4'\n",
       "17. 'STRAND_3.4'\n",
       "18. 'CURATED_REF_RGD_ID'\n",
       "19. 'CURATED_REF_PUBMED_ID'\n",
       "20. 'UNCURATED_PUBMED_ID'\n",
       "21. 'NCBI_GENE_ID'\n",
       "22. 'UNIPROT_ID'\n",
       "23. 'GENE_REFSEQ_STATUS'\n",
       "24. 'GENBANK_NUCLEOTIDE'\n",
       "25. 'TIGR_ID'\n",
       "26. 'GENBANK_PROTEIN'\n",
       "27. 'UNIGENE_ID'\n",
       "28. 'MARKER_RGD_ID'\n",
       "29. 'MARKER_SYMBOL'\n",
       "30. 'OLD_SYMBOL'\n",
       "31. 'OLD_NAME'\n",
       "32. 'QTL_RGD_ID'\n",
       "33. 'QTL_SYMBOL'\n",
       "34. 'NOMENCLATURE_STATUS'\n",
       "35. 'SPLICE_RGD_ID'\n",
       "36. 'SPLICE_SYMBOL'\n",
       "37. 'GENE_TYPE'\n",
       "38. 'ENSEMBL_ID'\n",
       "39. 'GENE_REFSEQ_STATUS.1'\n",
       "40. 'CHROMOSOME_5.0'\n",
       "41. 'START_POS_5.0'\n",
       "42. 'STOP_POS_5.0'\n",
       "43. 'STRAND_5.0'\n",
       "44. 'CHROMOSOME_6.0'\n",
       "45. 'START_POS_6.0'\n",
       "46. 'STOP_POS_6.0'\n",
       "47. 'STRAND_6.0'\n",
       "\n",
       "\n"
      ],
      "text/plain": [
       " [1] \"GENE_RGD_ID\"           \"SYMBOL\"                \"NAME\"                 \n",
       " [4] \"GENE_DESC\"             \"CHROMOSOME_CELERA\"     \"CHROMOSOME_3.1\"       \n",
       " [7] \"CHROMOSOME_3.4\"        \"FISH_BAND\"             \"START_POS_CELERA\"     \n",
       "[10] \"STOP_POS_CELERA\"       \"STRAND_CELERA\"         \"START_POS_3.1\"        \n",
       "[13] \"STOP_POS_3.1\"          \"STRAND_3.1\"            \"START_POS_3.4\"        \n",
       "[16] \"STOP_POS_3.4\"          \"STRAND_3.4\"            \"CURATED_REF_RGD_ID\"   \n",
       "[19] \"CURATED_REF_PUBMED_ID\" \"UNCURATED_PUBMED_ID\"   \"NCBI_GENE_ID\"         \n",
       "[22] \"UNIPROT_ID\"            \"GENE_REFSEQ_STATUS\"    \"GENBANK_NUCLEOTIDE\"   \n",
       "[25] \"TIGR_ID\"               \"GENBANK_PROTEIN\"       \"UNIGENE_ID\"           \n",
       "[28] \"MARKER_RGD_ID\"         \"MARKER_SYMBOL\"         \"OLD_SYMBOL\"           \n",
       "[31] \"OLD_NAME\"              \"QTL_RGD_ID\"            \"QTL_SYMBOL\"           \n",
       "[34] \"NOMENCLATURE_STATUS\"   \"SPLICE_RGD_ID\"         \"SPLICE_SYMBOL\"        \n",
       "[37] \"GENE_TYPE\"             \"ENSEMBL_ID\"            \"GENE_REFSEQ_STATUS.1\" \n",
       "[40] \"CHROMOSOME_5.0\"        \"START_POS_5.0\"         \"STOP_POS_5.0\"         \n",
       "[43] \"STRAND_5.0\"            \"CHROMOSOME_6.0\"        \"START_POS_6.0\"        \n",
       "[46] \"STOP_POS_6.0\"          \"STRAND_6.0\"           "
      ]
     },
     "metadata": {},
     "output_type": "display_data"
    }
   ],
   "source": [
    "colnames(rat_genes)"
   ]
  },
  {
   "cell_type": "code",
   "execution_count": 4,
   "metadata": {},
   "outputs": [
    {
     "data": {
      "text/html": [
       "<ol class=list-inline>\n",
       "\t<li>NA</li>\n",
       "\t<li>NA</li>\n",
       "\t<li>NA</li>\n",
       "\t<li>NA</li>\n",
       "\t<li>NA</li>\n",
       "\t<li>NA</li>\n",
       "\t<li>NA</li>\n",
       "\t<li>NA</li>\n",
       "\t<li>NA</li>\n",
       "\t<li>NA</li>\n",
       "</ol>\n"
      ],
      "text/latex": [
       "\\begin{enumerate*}\n",
       "\\item NA\n",
       "\\item NA\n",
       "\\item NA\n",
       "\\item NA\n",
       "\\item NA\n",
       "\\item NA\n",
       "\\item NA\n",
       "\\item NA\n",
       "\\item NA\n",
       "\\item NA\n",
       "\\end{enumerate*}\n"
      ],
      "text/markdown": [
       "1. NA\n",
       "2. NA\n",
       "3. NA\n",
       "4. NA\n",
       "5. NA\n",
       "6. NA\n",
       "7. NA\n",
       "8. NA\n",
       "9. NA\n",
       "10. NA\n",
       "\n",
       "\n"
      ],
      "text/plain": [
       " [1] NA NA NA NA NA NA NA NA NA NA"
      ]
     },
     "metadata": {},
     "output_type": "display_data"
    }
   ],
   "source": [
    "rat_genes[1:10,UNIPROT_ID]"
   ]
  },
  {
   "cell_type": "code",
   "execution_count": 5,
   "metadata": {},
   "outputs": [
    {
     "data": {
      "text/html": [
       "<ol class=list-inline>\n",
       "\t<li>'Q9EPH1'</li>\n",
       "\t<li>'Q9JI93'</li>\n",
       "\t<li>'F1LNL0;Q923K9'</li>\n",
       "\t<li>'A0A4Z3'</li>\n",
       "\t<li>'D3ZNS8'</li>\n",
       "\t<li>'D3ZS19'</li>\n",
       "\t<li>'P06238'</li>\n",
       "\t<li>'Q5I0N0;Q9QZH8'</li>\n",
       "\t<li>'Q9JMI1'</li>\n",
       "\t<li>'A0A0G2K4P6;Q64602'</li>\n",
       "</ol>\n"
      ],
      "text/latex": [
       "\\begin{enumerate*}\n",
       "\\item 'Q9EPH1'\n",
       "\\item 'Q9JI93'\n",
       "\\item 'F1LNL0;Q923K9'\n",
       "\\item 'A0A4Z3'\n",
       "\\item 'D3ZNS8'\n",
       "\\item 'D3ZS19'\n",
       "\\item 'P06238'\n",
       "\\item 'Q5I0N0;Q9QZH8'\n",
       "\\item 'Q9JMI1'\n",
       "\\item 'A0A0G2K4P6;Q64602'\n",
       "\\end{enumerate*}\n"
      ],
      "text/markdown": [
       "1. 'Q9EPH1'\n",
       "2. 'Q9JI93'\n",
       "3. 'F1LNL0;Q923K9'\n",
       "4. 'A0A4Z3'\n",
       "5. 'D3ZNS8'\n",
       "6. 'D3ZS19'\n",
       "7. 'P06238'\n",
       "8. 'Q5I0N0;Q9QZH8'\n",
       "9. 'Q9JMI1'\n",
       "10. 'A0A0G2K4P6;Q64602'\n",
       "\n",
       "\n"
      ],
      "text/plain": [
       " [1] \"Q9EPH1\"            \"Q9JI93\"            \"F1LNL0;Q923K9\"    \n",
       " [4] \"A0A4Z3\"            \"D3ZNS8\"            \"D3ZS19\"           \n",
       " [7] \"P06238\"            \"Q5I0N0;Q9QZH8\"     \"Q9JMI1\"           \n",
       "[10] \"A0A0G2K4P6;Q64602\""
      ]
     },
     "metadata": {},
     "output_type": "display_data"
    }
   ],
   "source": [
    "rat_genes <- rat_genes[!is.na(UNIPROT_ID)]\n",
    "rat_genes[1:10,UNIPROT_ID]"
   ]
  },
  {
   "cell_type": "markdown",
   "metadata": {},
   "source": [
    "### Get rid of all columns except RGD_ID and UniProt"
   ]
  },
  {
   "cell_type": "code",
   "execution_count": 6,
   "metadata": {},
   "outputs": [],
   "source": [
    "rat_genes <- rat_genes[, c(\"GENE_RGD_ID\",\"UNIPROT_ID\"), with=FALSE]"
   ]
  },
  {
   "cell_type": "code",
   "execution_count": 7,
   "metadata": {},
   "outputs": [
    {
     "data": {
      "text/html": [
       "19871"
      ],
      "text/latex": [
       "19871"
      ],
      "text/markdown": [
       "19871"
      ],
      "text/plain": [
       "[1] 19871"
      ]
     },
     "metadata": {},
     "output_type": "display_data"
    }
   ],
   "source": [
    "nrow(rat_genes)"
   ]
  },
  {
   "cell_type": "code",
   "execution_count": 9,
   "metadata": {},
   "outputs": [
    {
     "data": {
      "text/html": [
       "<table>\n",
       "<thead><tr><th scope=col>GENE_RGD_ID</th><th scope=col>UNIPROT_ID</th></tr></thead>\n",
       "<tbody>\n",
       "\t<tr><td>  69417      </td><td>Q9EPH1       </td></tr>\n",
       "\t<tr><td> 621583      </td><td>Q9JI93       </td></tr>\n",
       "\t<tr><td> 619834      </td><td>F1LNL0;Q923K9</td></tr>\n",
       "\t<tr><td> 727913      </td><td>A0A4Z3       </td></tr>\n",
       "\t<tr><td>1308701      </td><td>D3ZNS8       </td></tr>\n",
       "\t<tr><td>1565709      </td><td>D3ZS19       </td></tr>\n",
       "</tbody>\n",
       "</table>\n"
      ],
      "text/latex": [
       "\\begin{tabular}{r|ll}\n",
       " GENE\\_RGD\\_ID & UNIPROT\\_ID\\\\\n",
       "\\hline\n",
       "\t   69417       & Q9EPH1       \\\\\n",
       "\t  621583       & Q9JI93       \\\\\n",
       "\t  619834       & F1LNL0;Q923K9\\\\\n",
       "\t  727913       & A0A4Z3       \\\\\n",
       "\t 1308701       & D3ZNS8       \\\\\n",
       "\t 1565709       & D3ZS19       \\\\\n",
       "\\end{tabular}\n"
      ],
      "text/markdown": [
       "\n",
       "| GENE_RGD_ID | UNIPROT_ID |\n",
       "|---|---|\n",
       "|   69417       | Q9EPH1        |\n",
       "|  621583       | Q9JI93        |\n",
       "|  619834       | F1LNL0;Q923K9 |\n",
       "|  727913       | A0A4Z3        |\n",
       "| 1308701       | D3ZNS8        |\n",
       "| 1565709       | D3ZS19        |\n",
       "\n"
      ],
      "text/plain": [
       "  GENE_RGD_ID UNIPROT_ID   \n",
       "1   69417     Q9EPH1       \n",
       "2  621583     Q9JI93       \n",
       "3  619834     F1LNL0;Q923K9\n",
       "4  727913     A0A4Z3       \n",
       "5 1308701     D3ZNS8       \n",
       "6 1565709     D3ZS19       "
      ]
     },
     "metadata": {},
     "output_type": "display_data"
    }
   ],
   "source": [
    "head(rat_genes)"
   ]
  },
  {
   "cell_type": "markdown",
   "metadata": {},
   "source": [
    "## Separate rows with multiple UniProts"
   ]
  },
  {
   "cell_type": "code",
   "execution_count": 10,
   "metadata": {},
   "outputs": [
    {
     "data": {
      "text/html": [
       "29120"
      ],
      "text/latex": [
       "29120"
      ],
      "text/markdown": [
       "29120"
      ],
      "text/plain": [
       "[1] 29120"
      ]
     },
     "metadata": {},
     "output_type": "display_data"
    }
   ],
   "source": [
    "rat_genes <- separate_rows(rat_genes, UNIPROT_ID, sep = \";\", convert = T)\n",
    "nrow(rat_genes)"
   ]
  },
  {
   "cell_type": "code",
   "execution_count": 11,
   "metadata": {},
   "outputs": [
    {
     "data": {
      "text/html": [
       "29120"
      ],
      "text/latex": [
       "29120"
      ],
      "text/markdown": [
       "29120"
      ],
      "text/plain": [
       "[1] 29120"
      ]
     },
     "metadata": {},
     "output_type": "display_data"
    }
   ],
   "source": [
    "nrow(rat_genes)"
   ]
  },
  {
   "cell_type": "code",
   "execution_count": 12,
   "metadata": {},
   "outputs": [
    {
     "data": {
      "text/html": [
       "<table>\n",
       "<thead><tr><th scope=col>GENE_RGD_ID</th><th scope=col>UNIPROT_ID</th></tr></thead>\n",
       "<tbody>\n",
       "\t<tr><td>  69417</td><td>Q9EPH1 </td></tr>\n",
       "\t<tr><td> 621583</td><td>Q9JI93 </td></tr>\n",
       "\t<tr><td> 619834</td><td>F1LNL0 </td></tr>\n",
       "\t<tr><td> 619834</td><td>Q923K9 </td></tr>\n",
       "\t<tr><td> 727913</td><td>A0A4Z3 </td></tr>\n",
       "\t<tr><td>1308701</td><td>D3ZNS8 </td></tr>\n",
       "</tbody>\n",
       "</table>\n"
      ],
      "text/latex": [
       "\\begin{tabular}{r|ll}\n",
       " GENE\\_RGD\\_ID & UNIPROT\\_ID\\\\\n",
       "\\hline\n",
       "\t   69417 & Q9EPH1 \\\\\n",
       "\t  621583 & Q9JI93 \\\\\n",
       "\t  619834 & F1LNL0 \\\\\n",
       "\t  619834 & Q923K9 \\\\\n",
       "\t  727913 & A0A4Z3 \\\\\n",
       "\t 1308701 & D3ZNS8 \\\\\n",
       "\\end{tabular}\n"
      ],
      "text/markdown": [
       "\n",
       "| GENE_RGD_ID | UNIPROT_ID |\n",
       "|---|---|\n",
       "|   69417 | Q9EPH1  |\n",
       "|  621583 | Q9JI93  |\n",
       "|  619834 | F1LNL0  |\n",
       "|  619834 | Q923K9  |\n",
       "|  727913 | A0A4Z3  |\n",
       "| 1308701 | D3ZNS8  |\n",
       "\n"
      ],
      "text/plain": [
       "  GENE_RGD_ID UNIPROT_ID\n",
       "1   69417     Q9EPH1    \n",
       "2  621583     Q9JI93    \n",
       "3  619834     F1LNL0    \n",
       "4  619834     Q923K9    \n",
       "5  727913     A0A4Z3    \n",
       "6 1308701     D3ZNS8    "
      ]
     },
     "metadata": {},
     "output_type": "display_data"
    }
   ],
   "source": [
    "head(rat_genes)"
   ]
  },
  {
   "cell_type": "markdown",
   "metadata": {},
   "source": [
    "## Connect to TCRD to get rat nhprotein_ids and corresponding UniProt accessions"
   ]
  },
  {
   "cell_type": "code",
   "execution_count": 13,
   "metadata": {},
   "outputs": [
    {
     "name": "stderr",
     "output_type": "stream",
     "text": [
      "Warning message:\n",
      "“package ‘RMySQL’ was built under R version 3.4.4”Warning message:\n",
      "“package ‘DBI’ was built under R version 3.4.4”"
     ]
    }
   ],
   "source": [
    "library(RMySQL, quietly = T)\n",
    "DBHOST <- 'localhost'\n",
    "DBNAME <- 'tcrd6'\n",
    "DBUSER <- 'smathias'\n",
    "\n",
    "dbconn <- dbConnect(MySQL(), host=DBHOST, dbname=DBNAME, user=DBUSER)"
   ]
  },
  {
   "cell_type": "code",
   "execution_count": 14,
   "metadata": {},
   "outputs": [
    {
     "data": {
      "text/html": [
       "TRUE"
      ],
      "text/latex": [
       "TRUE"
      ],
      "text/markdown": [
       "TRUE"
      ],
      "text/plain": [
       "[1] TRUE"
      ]
     },
     "metadata": {},
     "output_type": "display_data"
    }
   ],
   "source": [
    "sql <- \"SELECT id AS nhprotein_id, uniprot FROM nhprotein WHERE taxid = 10116\"\n",
    "prots <- dbGetQuery(dbconn, sql)\n",
    "dbDisconnect(dbconn)\n",
    "rm(dbconn)\n",
    "setDT(prots) # convert data.frame to data.table"
   ]
  },
  {
   "cell_type": "code",
   "execution_count": 15,
   "metadata": {},
   "outputs": [
    {
     "data": {
      "text/html": [
       "<table>\n",
       "<thead><tr><th scope=col>nhprotein_id</th><th scope=col>uniprot</th></tr></thead>\n",
       "<tbody>\n",
       "\t<tr><td>85188 </td><td>P18757</td></tr>\n",
       "\t<tr><td>85189 </td><td>Q6AY71</td></tr>\n",
       "\t<tr><td>85190 </td><td>Q6P6R2</td></tr>\n",
       "\t<tr><td>85191 </td><td>Q9WTV1</td></tr>\n",
       "\t<tr><td>85192 </td><td>P13233</td></tr>\n",
       "\t<tr><td>85193 </td><td>Q66HG3</td></tr>\n",
       "</tbody>\n",
       "</table>\n"
      ],
      "text/latex": [
       "\\begin{tabular}{r|ll}\n",
       " nhprotein\\_id & uniprot\\\\\n",
       "\\hline\n",
       "\t 85188  & P18757\\\\\n",
       "\t 85189  & Q6AY71\\\\\n",
       "\t 85190  & Q6P6R2\\\\\n",
       "\t 85191  & Q9WTV1\\\\\n",
       "\t 85192  & P13233\\\\\n",
       "\t 85193  & Q66HG3\\\\\n",
       "\\end{tabular}\n"
      ],
      "text/markdown": [
       "\n",
       "| nhprotein_id | uniprot |\n",
       "|---|---|\n",
       "| 85188  | P18757 |\n",
       "| 85189  | Q6AY71 |\n",
       "| 85190  | Q6P6R2 |\n",
       "| 85191  | Q9WTV1 |\n",
       "| 85192  | P13233 |\n",
       "| 85193  | Q66HG3 |\n",
       "\n"
      ],
      "text/plain": [
       "  nhprotein_id uniprot\n",
       "1 85188        P18757 \n",
       "2 85189        Q6AY71 \n",
       "3 85190        Q6P6R2 \n",
       "4 85191        Q9WTV1 \n",
       "5 85192        P13233 \n",
       "6 85193        Q66HG3 "
      ]
     },
     "metadata": {},
     "output_type": "display_data"
    }
   ],
   "source": [
    "head(prots)"
   ]
  },
  {
   "cell_type": "code",
   "execution_count": 16,
   "metadata": {},
   "outputs": [
    {
     "data": {
      "text/html": [
       "36090"
      ],
      "text/latex": [
       "36090"
      ],
      "text/markdown": [
       "36090"
      ],
      "text/plain": [
       "[1] 36090"
      ]
     },
     "metadata": {},
     "output_type": "display_data"
    }
   ],
   "source": [
    "nrow(prots)"
   ]
  },
  {
   "cell_type": "markdown",
   "metadata": {},
   "source": [
    "## Join rat_genes to prots on UniProt"
   ]
  },
  {
   "cell_type": "code",
   "execution_count": 17,
   "metadata": {},
   "outputs": [
    {
     "data": {
      "text/html": [
       "<table>\n",
       "<thead><tr><th scope=col>UNIPROT_ID</th><th scope=col>GENE_RGD_ID</th><th scope=col>nhprotein_id</th></tr></thead>\n",
       "<tbody>\n",
       "\t<tr><td>A0A023GRW5</td><td>1598370   </td><td> 88228    </td></tr>\n",
       "\t<tr><td>A0A023IKK2</td><td>1595922   </td><td>111266    </td></tr>\n",
       "\t<tr><td>A0A023ILR5</td><td>1595814   </td><td> 95455    </td></tr>\n",
       "\t<tr><td>A0A023IMI6</td><td>   3426   </td><td>112319    </td></tr>\n",
       "\t<tr><td>A0A059NZR0</td><td>1359325   </td><td> 91660    </td></tr>\n",
       "\t<tr><td>A0A059NZV6</td><td>1305117   </td><td> 91665    </td></tr>\n",
       "</tbody>\n",
       "</table>\n"
      ],
      "text/latex": [
       "\\begin{tabular}{r|lll}\n",
       " UNIPROT\\_ID & GENE\\_RGD\\_ID & nhprotein\\_id\\\\\n",
       "\\hline\n",
       "\t A0A023GRW5 & 1598370    &  88228    \\\\\n",
       "\t A0A023IKK2 & 1595922    & 111266    \\\\\n",
       "\t A0A023ILR5 & 1595814    &  95455    \\\\\n",
       "\t A0A023IMI6 &    3426    & 112319    \\\\\n",
       "\t A0A059NZR0 & 1359325    &  91660    \\\\\n",
       "\t A0A059NZV6 & 1305117    &  91665    \\\\\n",
       "\\end{tabular}\n"
      ],
      "text/markdown": [
       "\n",
       "| UNIPROT_ID | GENE_RGD_ID | nhprotein_id |\n",
       "|---|---|---|\n",
       "| A0A023GRW5 | 1598370    |  88228     |\n",
       "| A0A023IKK2 | 1595922    | 111266     |\n",
       "| A0A023ILR5 | 1595814    |  95455     |\n",
       "| A0A023IMI6 |    3426    | 112319     |\n",
       "| A0A059NZR0 | 1359325    |  91660     |\n",
       "| A0A059NZV6 | 1305117    |  91665     |\n",
       "\n"
      ],
      "text/plain": [
       "  UNIPROT_ID GENE_RGD_ID nhprotein_id\n",
       "1 A0A023GRW5 1598370      88228      \n",
       "2 A0A023IKK2 1595922     111266      \n",
       "3 A0A023ILR5 1595814      95455      \n",
       "4 A0A023IMI6    3426     112319      \n",
       "5 A0A059NZR0 1359325      91660      \n",
       "6 A0A059NZV6 1305117      91665      "
      ]
     },
     "metadata": {},
     "output_type": "display_data"
    }
   ],
   "source": [
    "nhprot2rgd <- merge(rat_genes, prots, by.x = \"UNIPROT_ID\", by.y = \"uniprot\")\n",
    "head(nhprot2rgd)"
   ]
  },
  {
   "cell_type": "markdown",
   "metadata": {},
   "source": [
    "## Remove UniProt column"
   ]
  },
  {
   "cell_type": "code",
   "execution_count": 18,
   "metadata": {},
   "outputs": [
    {
     "data": {
      "text/html": [
       "<table>\n",
       "<thead><tr><th scope=col>GENE_RGD_ID</th><th scope=col>nhprotein_id</th></tr></thead>\n",
       "<tbody>\n",
       "\t<tr><td>1598370</td><td> 88228 </td></tr>\n",
       "\t<tr><td>1595922</td><td>111266 </td></tr>\n",
       "\t<tr><td>1595814</td><td> 95455 </td></tr>\n",
       "\t<tr><td>   3426</td><td>112319 </td></tr>\n",
       "\t<tr><td>1359325</td><td> 91660 </td></tr>\n",
       "\t<tr><td>1305117</td><td> 91665 </td></tr>\n",
       "</tbody>\n",
       "</table>\n"
      ],
      "text/latex": [
       "\\begin{tabular}{r|ll}\n",
       " GENE\\_RGD\\_ID & nhprotein\\_id\\\\\n",
       "\\hline\n",
       "\t 1598370 &  88228 \\\\\n",
       "\t 1595922 & 111266 \\\\\n",
       "\t 1595814 &  95455 \\\\\n",
       "\t    3426 & 112319 \\\\\n",
       "\t 1359325 &  91660 \\\\\n",
       "\t 1305117 &  91665 \\\\\n",
       "\\end{tabular}\n"
      ],
      "text/markdown": [
       "\n",
       "| GENE_RGD_ID | nhprotein_id |\n",
       "|---|---|\n",
       "| 1598370 |  88228  |\n",
       "| 1595922 | 111266  |\n",
       "| 1595814 |  95455  |\n",
       "|    3426 | 112319  |\n",
       "| 1359325 |  91660  |\n",
       "| 1305117 |  91665  |\n",
       "\n"
      ],
      "text/plain": [
       "  GENE_RGD_ID nhprotein_id\n",
       "1 1598370      88228      \n",
       "2 1595922     111266      \n",
       "3 1595814      95455      \n",
       "4    3426     112319      \n",
       "5 1359325      91660      \n",
       "6 1305117      91665      "
      ]
     },
     "metadata": {},
     "output_type": "display_data"
    }
   ],
   "source": [
    "nhprot2rgd[, UNIPROT_ID := NULL]\n",
    "head(nhprot2rgd)"
   ]
  },
  {
   "cell_type": "code",
   "execution_count": 19,
   "metadata": {},
   "outputs": [
    {
     "data": {
      "text/html": [
       "29102"
      ],
      "text/latex": [
       "29102"
      ],
      "text/markdown": [
       "29102"
      ],
      "text/plain": [
       "[1] 29102"
      ]
     },
     "metadata": {},
     "output_type": "display_data"
    }
   ],
   "source": [
    "nrow(nhprot2rgd)"
   ]
  },
  {
   "cell_type": "code",
   "execution_count": 20,
   "metadata": {},
   "outputs": [
    {
     "data": {
      "text/html": [
       "TRUE"
      ],
      "text/latex": [
       "TRUE"
      ],
      "text/markdown": [
       "TRUE"
      ],
      "text/plain": [
       "[1] TRUE"
      ]
     },
     "metadata": {},
     "output_type": "display_data"
    }
   ],
   "source": [
    "OUTPUT_FILE <- '/Users/smathias/TCRD/data/RGD/nhprotein2rgd.tsv'\n",
    "if(file.exists(OUTPUT_FILE)) {\n",
    "  file.remove(OUTPUT_FILE)\n",
    "}\n",
    "fwrite(nhprot2rgd, file = OUTPUT_FILE, sep = \"\\t\", col.names = T, row.names = F, na = \"None\", quote = T)"
   ]
  },
  {
   "cell_type": "code",
   "execution_count": null,
   "metadata": {},
   "outputs": [],
   "source": [
    "GZIP_FILE <- '/Users/smathias/TCRD/data/RGD/nhprotein2rgd.tsv.gz'\n",
    "if(file.exists(GZIP_FILE)) {\n",
    "  file.remove(GZIP_FILE)\n",
    "}\n",
    "system(sprintf(\"gzip -9v %s\", OUTPUT_FILE))"
   ]
  },
  {
   "cell_type": "markdown",
   "metadata": {},
   "source": [
    "## Get and Process QTLs"
   ]
  },
  {
   "cell_type": "code",
   "execution_count": 21,
   "metadata": {},
   "outputs": [
    {
     "name": "stdout",
     "output_type": "stream",
     "text": [
      "Input contains no \\n. Taking this to be a filename to open\n",
      "File opened, filesize is 0.001025 GB.\n",
      "Memory mapping ... ok\n",
      "Detected eol as \\n only (no \\r afterwards), the UNIX and Mac standard.\n",
      "Positioned on line 71 after skip or autostart\n",
      "This line isn't blank and skip>0 so we're done\n",
      "Using supplied sep '\\t' ... found ok\n",
      "Detected 47 columns. Longest stretch was from line 72 to line 100\n",
      "Starting data input on line 72 (either column names or first row of data). First 10 characters: 61326\trat\t\n",
      "The line before starting line 72 is non-empty and will be ignored (it has too few or too many items to be column names or data): QTL_RGD_ID\tSPECIES\tQTL_SYMBOL\tQTL_NAME\tCHROMOSOME_FROM_REF\tLOD\tP_VALUE\tVARIANCE\tFLANK_1_RGD_ID\tFLANK_1_SYMBOL\tFLANK_2_RGD_ID\tFLANK_2_SYMBOL\tPEAK_RGD_ID\tPEAK_MARKER_SYMBOL\tTRAIT_NAME\tMEASUREMENT_TYPE\t(UNUSED)\tPHENOTYPES\tASSOCIATED_DISEASES\tCURATED_REF_RGD_ID\tCURATED_REF_PUBMED_ID\tCANDIDATE_GENE_RGD_IDS\tCANDIDATE_GENE_SYMBOLS\tINHERITANCE_TYPE\tRELATED_QTLS\t(UNUSED)\t5.0_MAP_POS_CHR\t5.0_MAP_POS_START\t5.0_MAP_POS_STOP\t5.0_MAP_POS_METHOD\t3.4_MAP_POS_CHR\t3.4_MAP_POS_START\t3.4_MAP_POS_STOP\t3.4_MAP_POS_METHOD\tCROSS_TYPE\tCROSS_PAIR\tSTRAIN_RGD_ID1\tSTRAIN_RGD_ID2\tSTRAIN_RGD_SYMBOL1\tSTRAIN_RGD_SYMBOL2\t6.0_MAP_POS_CHR\t6.0_MAP_POS_START\t6.0_MAP_POS_STOP\t6.0_MAP_POS_METHOD\tSTRAIN_RGD_ID3\tSTRAIN_RGD_SYMBOL3'header' changed by user from 'auto' to TRUE\n",
      "Count of eol: 2378 (including 1 at the end)\n",
      "Count of sep: 109342\n",
      "nrow = MIN( nsep [109342] / (ncol [47] -1), neol [2378] - endblanks [1] ) = 2377\n",
      "Type codes (point  0): 14444333141414440444444440111411144411441114140\n",
      "Type codes (point  1): 14444333141414440444444440411441144411444114140\n",
      "Type codes (point  2): 14444333141414440444444440411441144411444114140\n",
      "Type codes (point  3): 14444333141414440444444440411441144411444114140\n",
      "Type codes (point  4): 14444333141414440444444440411441144411444114140\n",
      "Type codes (point  5): 14444333141414440444444440411441144411444114140\n",
      "Type codes (point  6): 14444333141414440444444440411441144411444114140\n",
      "Type codes (point  7): 14444333141414440444444440411441144411444114140\n",
      "Type codes (point  8): 14444333141414440444444440411441144411444114140\n",
      "Type codes (point  9): 14444333141414440444444440411441144411444114140\n",
      "Type codes (point 10): 14444333141414440444444440411441144411444114140\n",
      "Type codes: 14444333141414440444444440411441144411444114140 (after applying colClasses and integer64)\n",
      "Type codes: 14444333141414440444444440411441144411444114140 (after applying drop or select (if supplied)\n",
      "Allocating 47 column slots (47 - 0 dropped)\n",
      "Read 2377 rows. Exactly what was estimated and allocated up front\n",
      "   0.000s (  1%) Memory map (rerun may be quicker)\n",
      "   0.000s (  1%) sep and header detection\n",
      "   0.002s ( 16%) Count rows (wc -l)\n",
      "   0.001s ( 12%) Column type detection (100 rows at 10 points)\n",
      "   0.000s (  3%) Allocation of 2377x47 result (xMB) in RAM\n",
      "   0.008s ( 65%) Reading data\n",
      "   0.000s (  0%) Allocation for type bumps (if any), including gc time if triggered\n",
      "   0.000s (  0%) Coercing data already read in type bumps (if any)\n",
      "   0.000s (  1%) Changing na.strings to NA\n",
      "   0.012s        Total\n"
     ]
    },
    {
     "data": {
      "text/html": [
       "2377"
      ],
      "text/latex": [
       "2377"
      ],
      "text/markdown": [
       "2377"
      ],
      "text/plain": [
       "[1] 2377"
      ]
     },
     "metadata": {},
     "output_type": "display_data"
    }
   ],
   "source": [
    "qtl <- fread(\"ftp://ftp.rgd.mcw.edu/pub/data_release/QTLS_RAT.txt\", header = T, sep = \"\\t\", na.strings = \"\", quote = \"\\\"\", skip = 70, verbose = T, col.names = c(\"QTL_RGD_ID\",\"SPECIES\",\"QTL_SYMBOL\",\"QTL_NAME\",\"CHROMOSOME_FROM_REF\",\"LOD\",\"P_VALUE\",\"VARIANCE\",\"FLANK_1_RGD_ID\",\"FLANK_1_SYMBOL\",\"FLANK_2_RGD_ID\",\"FLANK_2_SYMBOL\",\"PEAK_RGD_ID\",\"PEAK_MARKER_SYMBOL\",\"TRAIT_NAME\",\"MEASUREMENT_TYPE\",\"(UNUSED)\",\"PHENOTYPES\",\"ASSOCIATED_DISEASES\",\"CURATED_REF_RGD_ID\",\"CURATED_REF_PUBMED_ID\",\"CANDIDATE_GENE_RGD_IDS\",\"CANDIDATE_GENE_SYMBOLS\",\"INHERITANCE_TYPE\",\"RELATED_QTLS\",\"UNUSED\",\"5.0_MAP_POS_CHR\",\"5.0_MAP_POS_START\",\"5.0_MAP_POS_STOP\",\"5.0_MAP_POS_METHOD\",\"3.4_MAP_POS_CHR\",\"3.4_MAP_POS_START\",\"3.4_MAP_POS_STOP\",\"3.4_MAP_POS_METHOD\",\"CROSS_TYPE\",\"CROSS_PAIR\",\"STRAIN_RGD_ID1\",\"STRAIN_RGD_ID2\",\"STRAIN_RGD_SYMBOL1\",\"STRAIN_RGD_SYMBOL2\",\"6.0_MAP_POS_CHR\",\"6.0_MAP_POS_START\",\"6.0_MAP_POS_STOP\",\"6.0_MAP_POS_METHOD\",\"STRAIN_RGD_ID3\",\"STRAIN_RGD_SYMBOL3\",\"SSTRAIN\"))\n",
    "nrow(qtl)"
   ]
  },
  {
   "cell_type": "markdown",
   "metadata": {},
   "source": [
    "## Separate gene ids, symbols and phenotypes"
   ]
  },
  {
   "cell_type": "code",
   "execution_count": 22,
   "metadata": {},
   "outputs": [
    {
     "data": {
      "text/html": [
       "306"
      ],
      "text/latex": [
       "306"
      ],
      "text/markdown": [
       "306"
      ],
      "text/plain": [
       "[1] 306"
      ]
     },
     "metadata": {},
     "output_type": "display_data"
    }
   ],
   "source": [
    "qtl <- qtl[!is.na(CANDIDATE_GENE_RGD_IDS)]\n",
    "nrow(qtl)"
   ]
  },
  {
   "cell_type": "code",
   "execution_count": 23,
   "metadata": {},
   "outputs": [
    {
     "data": {
      "text/html": [
       "<ol class=list-inline>\n",
       "\t<li>'2836;3395;3645;3772;3773;3774;3877;3967;61276;69069;1594396'</li>\n",
       "\t<li>'3197;3834'</li>\n",
       "\t<li>'62086'</li>\n",
       "\t<li>'3239'</li>\n",
       "\t<li>'3238'</li>\n",
       "</ol>\n"
      ],
      "text/latex": [
       "\\begin{enumerate*}\n",
       "\\item '2836;3395;3645;3772;3773;3774;3877;3967;61276;69069;1594396'\n",
       "\\item '3197;3834'\n",
       "\\item '62086'\n",
       "\\item '3239'\n",
       "\\item '3238'\n",
       "\\end{enumerate*}\n"
      ],
      "text/markdown": [
       "1. '2836;3395;3645;3772;3773;3774;3877;3967;61276;69069;1594396'\n",
       "2. '3197;3834'\n",
       "3. '62086'\n",
       "4. '3239'\n",
       "5. '3238'\n",
       "\n",
       "\n"
      ],
      "text/plain": [
       "[1] \"2836;3395;3645;3772;3773;3774;3877;3967;61276;69069;1594396\"\n",
       "[2] \"3197;3834\"                                                  \n",
       "[3] \"62086\"                                                      \n",
       "[4] \"3239\"                                                       \n",
       "[5] \"3238\"                                                       "
      ]
     },
     "metadata": {},
     "output_type": "display_data"
    }
   ],
   "source": [
    "qtl[1:5, CANDIDATE_GENE_RGD_IDS]"
   ]
  },
  {
   "cell_type": "code",
   "execution_count": 24,
   "metadata": {},
   "outputs": [
    {
     "data": {
      "text/html": [
       "<ol class=list-inline>\n",
       "\t<li>'Hsd17b1;Prkca;Ccl2;Stat3;Stat5a;Stat5b;Tnfaip1;Vtn;Crhr1;Ccl5;Trim25'</li>\n",
       "\t<li>'Npy;Tcrb'</li>\n",
       "\t<li>'Acsm3'</li>\n",
       "\t<li>'Oxtr'</li>\n",
       "\t<li>'Oxt'</li>\n",
       "</ol>\n"
      ],
      "text/latex": [
       "\\begin{enumerate*}\n",
       "\\item 'Hsd17b1;Prkca;Ccl2;Stat3;Stat5a;Stat5b;Tnfaip1;Vtn;Crhr1;Ccl5;Trim25'\n",
       "\\item 'Npy;Tcrb'\n",
       "\\item 'Acsm3'\n",
       "\\item 'Oxtr'\n",
       "\\item 'Oxt'\n",
       "\\end{enumerate*}\n"
      ],
      "text/markdown": [
       "1. 'Hsd17b1;Prkca;Ccl2;Stat3;Stat5a;Stat5b;Tnfaip1;Vtn;Crhr1;Ccl5;Trim25'\n",
       "2. 'Npy;Tcrb'\n",
       "3. 'Acsm3'\n",
       "4. 'Oxtr'\n",
       "5. 'Oxt'\n",
       "\n",
       "\n"
      ],
      "text/plain": [
       "[1] \"Hsd17b1;Prkca;Ccl2;Stat3;Stat5a;Stat5b;Tnfaip1;Vtn;Crhr1;Ccl5;Trim25\"\n",
       "[2] \"Npy;Tcrb\"                                                            \n",
       "[3] \"Acsm3\"                                                               \n",
       "[4] \"Oxtr\"                                                                \n",
       "[5] \"Oxt\"                                                                 "
      ]
     },
     "metadata": {},
     "output_type": "display_data"
    }
   ],
   "source": [
    "qtl[1:5, CANDIDATE_GENE_SYMBOLS]"
   ]
  },
  {
   "cell_type": "code",
   "execution_count": 25,
   "metadata": {},
   "outputs": [
    {
     "data": {
      "text/html": [
       "697"
      ],
      "text/latex": [
       "697"
      ],
      "text/markdown": [
       "697"
      ],
      "text/plain": [
       "[1] 697"
      ]
     },
     "metadata": {},
     "output_type": "display_data"
    }
   ],
   "source": [
    "qtl <- separate_rows(qtl, CANDIDATE_GENE_RGD_IDS, CANDIDATE_GENE_SYMBOLS, sep = \";\", convert = T)\n",
    "nrow(qtl)"
   ]
  },
  {
   "cell_type": "code",
   "execution_count": 26,
   "metadata": {},
   "outputs": [
    {
     "data": {
      "text/html": [
       "<ol class=list-inline>\n",
       "\t<li>'abnormal uvea morphology;eye inflammation'</li>\n",
       "\t<li>'abnormal uvea morphology;eye inflammation'</li>\n",
       "\t<li>'abnormal uvea morphology;eye inflammation'</li>\n",
       "\t<li>'abnormal uvea morphology;eye inflammation'</li>\n",
       "\t<li>'abnormal uvea morphology;eye inflammation'</li>\n",
       "</ol>\n"
      ],
      "text/latex": [
       "\\begin{enumerate*}\n",
       "\\item 'abnormal uvea morphology;eye inflammation'\n",
       "\\item 'abnormal uvea morphology;eye inflammation'\n",
       "\\item 'abnormal uvea morphology;eye inflammation'\n",
       "\\item 'abnormal uvea morphology;eye inflammation'\n",
       "\\item 'abnormal uvea morphology;eye inflammation'\n",
       "\\end{enumerate*}\n"
      ],
      "text/markdown": [
       "1. 'abnormal uvea morphology;eye inflammation'\n",
       "2. 'abnormal uvea morphology;eye inflammation'\n",
       "3. 'abnormal uvea morphology;eye inflammation'\n",
       "4. 'abnormal uvea morphology;eye inflammation'\n",
       "5. 'abnormal uvea morphology;eye inflammation'\n",
       "\n",
       "\n"
      ],
      "text/plain": [
       "[1] \"abnormal uvea morphology;eye inflammation\"\n",
       "[2] \"abnormal uvea morphology;eye inflammation\"\n",
       "[3] \"abnormal uvea morphology;eye inflammation\"\n",
       "[4] \"abnormal uvea morphology;eye inflammation\"\n",
       "[5] \"abnormal uvea morphology;eye inflammation\""
      ]
     },
     "metadata": {},
     "output_type": "display_data"
    }
   ],
   "source": [
    "qtl[1:5, PHENOTYPES]"
   ]
  },
  {
   "cell_type": "code",
   "execution_count": 27,
   "metadata": {},
   "outputs": [
    {
     "data": {
      "text/html": [
       "1016"
      ],
      "text/latex": [
       "1016"
      ],
      "text/markdown": [
       "1016"
      ],
      "text/plain": [
       "[1] 1016"
      ]
     },
     "metadata": {},
     "output_type": "display_data"
    }
   ],
   "source": [
    "qtl <- separate_rows(qtl, PHENOTYPES, sep = \";\")\n",
    "nrow(qtl)"
   ]
  },
  {
   "cell_type": "code",
   "execution_count": 28,
   "metadata": {},
   "outputs": [
    {
     "data": {
      "text/html": [
       "<table>\n",
       "<thead><tr><th scope=col>QTL_RGD_ID</th><th scope=col>QTL_SYMBOL</th><th scope=col>QTL_NAME</th><th scope=col>LOD</th><th scope=col>P_VALUE</th><th scope=col>TRAIT_NAME</th><th scope=col>MEASUREMENT_TYPE</th><th scope=col>ASSOCIATED_DISEASES</th><th scope=col>CANDIDATE_GENE_RGD_IDS</th><th scope=col>PHENOTYPES</th></tr></thead>\n",
       "<tbody>\n",
       "\t<tr><td>61332                                              </td><td>Eau3                                               </td><td>Experimental allergic uveoretinitis QTL 3          </td><td>NA                                                 </td><td>0.004                                              </td><td>uvea integrity trait (VT:0010551)                  </td><td>experimental autoimmune uveitis score (CMO:0001504)</td><td>Experimental Autoimmune Uveitis                    </td><td>2836                                               </td><td>abnormal uvea morphology                           </td></tr>\n",
       "\t<tr><td>61332                                              </td><td>Eau3                                               </td><td>Experimental allergic uveoretinitis QTL 3          </td><td>NA                                                 </td><td>0.004                                              </td><td>uvea integrity trait (VT:0010551)                  </td><td>experimental autoimmune uveitis score (CMO:0001504)</td><td>Experimental Autoimmune Uveitis                    </td><td>2836                                               </td><td>eye inflammation                                   </td></tr>\n",
       "\t<tr><td>61332                                              </td><td>Eau3                                               </td><td>Experimental allergic uveoretinitis QTL 3          </td><td>NA                                                 </td><td>0.004                                              </td><td>uvea integrity trait (VT:0010551)                  </td><td>experimental autoimmune uveitis score (CMO:0001504)</td><td>Experimental Autoimmune Uveitis                    </td><td>3395                                               </td><td>abnormal uvea morphology                           </td></tr>\n",
       "\t<tr><td>61332                                              </td><td>Eau3                                               </td><td>Experimental allergic uveoretinitis QTL 3          </td><td>NA                                                 </td><td>0.004                                              </td><td>uvea integrity trait (VT:0010551)                  </td><td>experimental autoimmune uveitis score (CMO:0001504)</td><td>Experimental Autoimmune Uveitis                    </td><td>3395                                               </td><td>eye inflammation                                   </td></tr>\n",
       "\t<tr><td>61332                                              </td><td>Eau3                                               </td><td>Experimental allergic uveoretinitis QTL 3          </td><td>NA                                                 </td><td>0.004                                              </td><td>uvea integrity trait (VT:0010551)                  </td><td>experimental autoimmune uveitis score (CMO:0001504)</td><td>Experimental Autoimmune Uveitis                    </td><td>3645                                               </td><td>abnormal uvea morphology                           </td></tr>\n",
       "\t<tr><td>61332                                              </td><td>Eau3                                               </td><td>Experimental allergic uveoretinitis QTL 3          </td><td>NA                                                 </td><td>0.004                                              </td><td>uvea integrity trait (VT:0010551)                  </td><td>experimental autoimmune uveitis score (CMO:0001504)</td><td>Experimental Autoimmune Uveitis                    </td><td>3645                                               </td><td>eye inflammation                                   </td></tr>\n",
       "</tbody>\n",
       "</table>\n"
      ],
      "text/latex": [
       "\\begin{tabular}{r|llllllllll}\n",
       " QTL\\_RGD\\_ID & QTL\\_SYMBOL & QTL\\_NAME & LOD & P\\_VALUE & TRAIT\\_NAME & MEASUREMENT\\_TYPE & ASSOCIATED\\_DISEASES & CANDIDATE\\_GENE\\_RGD\\_IDS & PHENOTYPES\\\\\n",
       "\\hline\n",
       "\t 61332                                               & Eau3                                                & Experimental allergic uveoretinitis QTL 3           & NA                                                  & 0.004                                               & uvea integrity trait (VT:0010551)                   & experimental autoimmune uveitis score (CMO:0001504) & Experimental Autoimmune Uveitis                     & 2836                                                & abnormal uvea morphology                           \\\\\n",
       "\t 61332                                               & Eau3                                                & Experimental allergic uveoretinitis QTL 3           & NA                                                  & 0.004                                               & uvea integrity trait (VT:0010551)                   & experimental autoimmune uveitis score (CMO:0001504) & Experimental Autoimmune Uveitis                     & 2836                                                & eye inflammation                                   \\\\\n",
       "\t 61332                                               & Eau3                                                & Experimental allergic uveoretinitis QTL 3           & NA                                                  & 0.004                                               & uvea integrity trait (VT:0010551)                   & experimental autoimmune uveitis score (CMO:0001504) & Experimental Autoimmune Uveitis                     & 3395                                                & abnormal uvea morphology                           \\\\\n",
       "\t 61332                                               & Eau3                                                & Experimental allergic uveoretinitis QTL 3           & NA                                                  & 0.004                                               & uvea integrity trait (VT:0010551)                   & experimental autoimmune uveitis score (CMO:0001504) & Experimental Autoimmune Uveitis                     & 3395                                                & eye inflammation                                   \\\\\n",
       "\t 61332                                               & Eau3                                                & Experimental allergic uveoretinitis QTL 3           & NA                                                  & 0.004                                               & uvea integrity trait (VT:0010551)                   & experimental autoimmune uveitis score (CMO:0001504) & Experimental Autoimmune Uveitis                     & 3645                                                & abnormal uvea morphology                           \\\\\n",
       "\t 61332                                               & Eau3                                                & Experimental allergic uveoretinitis QTL 3           & NA                                                  & 0.004                                               & uvea integrity trait (VT:0010551)                   & experimental autoimmune uveitis score (CMO:0001504) & Experimental Autoimmune Uveitis                     & 3645                                                & eye inflammation                                   \\\\\n",
       "\\end{tabular}\n"
      ],
      "text/markdown": [
       "\n",
       "| QTL_RGD_ID | QTL_SYMBOL | QTL_NAME | LOD | P_VALUE | TRAIT_NAME | MEASUREMENT_TYPE | ASSOCIATED_DISEASES | CANDIDATE_GENE_RGD_IDS | PHENOTYPES |\n",
       "|---|---|---|---|---|---|---|---|---|---|\n",
       "| 61332                                               | Eau3                                                | Experimental allergic uveoretinitis QTL 3           | NA                                                  | 0.004                                               | uvea integrity trait (VT:0010551)                   | experimental autoimmune uveitis score (CMO:0001504) | Experimental Autoimmune Uveitis                     | 2836                                                | abnormal uvea morphology                            |\n",
       "| 61332                                               | Eau3                                                | Experimental allergic uveoretinitis QTL 3           | NA                                                  | 0.004                                               | uvea integrity trait (VT:0010551)                   | experimental autoimmune uveitis score (CMO:0001504) | Experimental Autoimmune Uveitis                     | 2836                                                | eye inflammation                                    |\n",
       "| 61332                                               | Eau3                                                | Experimental allergic uveoretinitis QTL 3           | NA                                                  | 0.004                                               | uvea integrity trait (VT:0010551)                   | experimental autoimmune uveitis score (CMO:0001504) | Experimental Autoimmune Uveitis                     | 3395                                                | abnormal uvea morphology                            |\n",
       "| 61332                                               | Eau3                                                | Experimental allergic uveoretinitis QTL 3           | NA                                                  | 0.004                                               | uvea integrity trait (VT:0010551)                   | experimental autoimmune uveitis score (CMO:0001504) | Experimental Autoimmune Uveitis                     | 3395                                                | eye inflammation                                    |\n",
       "| 61332                                               | Eau3                                                | Experimental allergic uveoretinitis QTL 3           | NA                                                  | 0.004                                               | uvea integrity trait (VT:0010551)                   | experimental autoimmune uveitis score (CMO:0001504) | Experimental Autoimmune Uveitis                     | 3645                                                | abnormal uvea morphology                            |\n",
       "| 61332                                               | Eau3                                                | Experimental allergic uveoretinitis QTL 3           | NA                                                  | 0.004                                               | uvea integrity trait (VT:0010551)                   | experimental autoimmune uveitis score (CMO:0001504) | Experimental Autoimmune Uveitis                     | 3645                                                | eye inflammation                                    |\n",
       "\n"
      ],
      "text/plain": [
       "  QTL_RGD_ID QTL_SYMBOL QTL_NAME                                  LOD P_VALUE\n",
       "1 61332      Eau3       Experimental allergic uveoretinitis QTL 3 NA  0.004  \n",
       "2 61332      Eau3       Experimental allergic uveoretinitis QTL 3 NA  0.004  \n",
       "3 61332      Eau3       Experimental allergic uveoretinitis QTL 3 NA  0.004  \n",
       "4 61332      Eau3       Experimental allergic uveoretinitis QTL 3 NA  0.004  \n",
       "5 61332      Eau3       Experimental allergic uveoretinitis QTL 3 NA  0.004  \n",
       "6 61332      Eau3       Experimental allergic uveoretinitis QTL 3 NA  0.004  \n",
       "  TRAIT_NAME                       \n",
       "1 uvea integrity trait (VT:0010551)\n",
       "2 uvea integrity trait (VT:0010551)\n",
       "3 uvea integrity trait (VT:0010551)\n",
       "4 uvea integrity trait (VT:0010551)\n",
       "5 uvea integrity trait (VT:0010551)\n",
       "6 uvea integrity trait (VT:0010551)\n",
       "  MEASUREMENT_TYPE                                   \n",
       "1 experimental autoimmune uveitis score (CMO:0001504)\n",
       "2 experimental autoimmune uveitis score (CMO:0001504)\n",
       "3 experimental autoimmune uveitis score (CMO:0001504)\n",
       "4 experimental autoimmune uveitis score (CMO:0001504)\n",
       "5 experimental autoimmune uveitis score (CMO:0001504)\n",
       "6 experimental autoimmune uveitis score (CMO:0001504)\n",
       "  ASSOCIATED_DISEASES             CANDIDATE_GENE_RGD_IDS\n",
       "1 Experimental Autoimmune Uveitis 2836                  \n",
       "2 Experimental Autoimmune Uveitis 2836                  \n",
       "3 Experimental Autoimmune Uveitis 3395                  \n",
       "4 Experimental Autoimmune Uveitis 3395                  \n",
       "5 Experimental Autoimmune Uveitis 3645                  \n",
       "6 Experimental Autoimmune Uveitis 3645                  \n",
       "  PHENOTYPES              \n",
       "1 abnormal uvea morphology\n",
       "2 eye inflammation        \n",
       "3 abnormal uvea morphology\n",
       "4 eye inflammation        \n",
       "5 abnormal uvea morphology\n",
       "6 eye inflammation        "
      ]
     },
     "metadata": {},
     "output_type": "display_data"
    }
   ],
   "source": [
    "qtl <- qtl[, .(QTL_RGD_ID, QTL_SYMBOL, QTL_NAME, LOD, P_VALUE, TRAIT_NAME, MEASUREMENT_TYPE, ASSOCIATED_DISEASES, CANDIDATE_GENE_RGD_IDS, PHENOTYPES)]\n",
    "head(qtl)"
   ]
  },
  {
   "cell_type": "code",
   "execution_count": 29,
   "metadata": {},
   "outputs": [
    {
     "data": {
      "text/html": [
       "982"
      ],
      "text/latex": [
       "982"
      ],
      "text/markdown": [
       "982"
      ],
      "text/plain": [
       "[1] 982"
      ]
     },
     "metadata": {},
     "output_type": "display_data"
    }
   ],
   "source": [
    "qtl <- qtl[CANDIDATE_GENE_RGD_IDS %in% rat_genes$GENE_RGD_ID]\n",
    "nrow(qtl)"
   ]
  },
  {
   "cell_type": "markdown",
   "metadata": {},
   "source": [
    "## Join qtl to nhprotein2rgd"
   ]
  },
  {
   "cell_type": "code",
   "execution_count": 31,
   "metadata": {},
   "outputs": [
    {
     "data": {
      "text/html": [
       "<table>\n",
       "<thead><tr><th scope=col>GENE_RGD_ID</th><th scope=col>nhprotein_id</th><th scope=col>QTL_RGD_ID</th><th scope=col>QTL_SYMBOL</th><th scope=col>QTL_NAME</th><th scope=col>LOD</th><th scope=col>P_VALUE</th><th scope=col>TRAIT_NAME</th><th scope=col>MEASUREMENT_TYPE</th><th scope=col>ASSOCIATED_DISEASES</th><th scope=col>PHENOTYPES</th></tr></thead>\n",
       "<tbody>\n",
       "\t<tr><td>2003                                                </td><td>119941                                              </td><td>  70199                                             </td><td>Coreg1                                              </td><td>Compensatory renal growth QTL 1                     </td><td>11.8                                                </td><td>   NA                                               </td><td>kidney mass (VT:0002707)                            </td><td>compensatory renal growth score (CMO:0001894)       </td><td>NA                                                  </td><td>increased compensatory renal growth                 </td></tr>\n",
       "\t<tr><td>2004                                                </td><td>119075                                              </td><td> 724558                                             </td><td>Plsm2                                               </td><td>Polydactyly-luxate syndrome (PLS) morphotypes QTL 2 </td><td>  NA                                                </td><td>3e-04                                               </td><td>hindlimb integrity trait (VT:0010563)               </td><td>hind foot phalanges count (CMO:0001949)             </td><td>polydactyly                                         </td><td>polydactyly                                         </td></tr>\n",
       "\t<tr><td>2004                                                </td><td>119075                                              </td><td>6903353                                             </td><td>Bp353                                               </td><td>Blood pressure QTL 353                              </td><td> 2.8                                                </td><td>   NA                                               </td><td>arterial blood pressure trait (VT:2000000)          </td><td>diastolic blood pressure (CMO:0000005)              </td><td>hypertension                                        </td><td>increased systemic arterial diastolic blood pressure</td></tr>\n",
       "\t<tr><td>2004                                                </td><td>119075                                              </td><td>6903353                                             </td><td>Bp353                                               </td><td>Blood pressure QTL 353                              </td><td> 2.8                                                </td><td>   NA                                               </td><td>arterial blood pressure trait (VT:2000000)          </td><td>diastolic blood pressure (CMO:0000005)              </td><td>hypertension                                        </td><td>salt-sensitive hypertension                         </td></tr>\n",
       "\t<tr><td>2015                                                </td><td>119100                                              </td><td>1298527                                             </td><td>Arunc2                                              </td><td>Aerobic running capacity QTL 2                      </td><td> 2.9                                                </td><td>   NA                                               </td><td>exercise endurance trait (VT:0002332)               </td><td>maximum distance run on treadmill (CMO:0001406)     </td><td>NA                                                  </td><td>decreased aerobic running capacity                  </td></tr>\n",
       "\t<tr><td>2015                                                </td><td>119100                                              </td><td>1298527                                             </td><td>Arunc2                                              </td><td>Aerobic running capacity QTL 2                      </td><td> 2.9                                                </td><td>   NA                                               </td><td>exercise endurance trait (VT:0002332)               </td><td>maximum distance run on treadmill (CMO:0001406)     </td><td>NA                                                  </td><td>increased aerobic running capacity                  </td></tr>\n",
       "</tbody>\n",
       "</table>\n"
      ],
      "text/latex": [
       "\\begin{tabular}{r|lllllllllll}\n",
       " GENE\\_RGD\\_ID & nhprotein\\_id & QTL\\_RGD\\_ID & QTL\\_SYMBOL & QTL\\_NAME & LOD & P\\_VALUE & TRAIT\\_NAME & MEASUREMENT\\_TYPE & ASSOCIATED\\_DISEASES & PHENOTYPES\\\\\n",
       "\\hline\n",
       "\t 2003                                                 & 119941                                               &   70199                                              & Coreg1                                               & Compensatory renal growth QTL 1                      & 11.8                                                 &    NA                                                & kidney mass (VT:0002707)                             & compensatory renal growth score (CMO:0001894)        & NA                                                   & increased compensatory renal growth                 \\\\\n",
       "\t 2004                                                 & 119075                                               &  724558                                              & Plsm2                                                & Polydactyly-luxate syndrome (PLS) morphotypes QTL 2  &   NA                                                 & 3e-04                                                & hindlimb integrity trait (VT:0010563)                & hind foot phalanges count (CMO:0001949)              & polydactyly                                          & polydactyly                                         \\\\\n",
       "\t 2004                                                 & 119075                                               & 6903353                                              & Bp353                                                & Blood pressure QTL 353                               &  2.8                                                 &    NA                                                & arterial blood pressure trait (VT:2000000)           & diastolic blood pressure (CMO:0000005)               & hypertension                                         & increased systemic arterial diastolic blood pressure\\\\\n",
       "\t 2004                                                 & 119075                                               & 6903353                                              & Bp353                                                & Blood pressure QTL 353                               &  2.8                                                 &    NA                                                & arterial blood pressure trait (VT:2000000)           & diastolic blood pressure (CMO:0000005)               & hypertension                                         & salt-sensitive hypertension                         \\\\\n",
       "\t 2015                                                 & 119100                                               & 1298527                                              & Arunc2                                               & Aerobic running capacity QTL 2                       &  2.9                                                 &    NA                                                & exercise endurance trait (VT:0002332)                & maximum distance run on treadmill (CMO:0001406)      & NA                                                   & decreased aerobic running capacity                  \\\\\n",
       "\t 2015                                                 & 119100                                               & 1298527                                              & Arunc2                                               & Aerobic running capacity QTL 2                       &  2.9                                                 &    NA                                                & exercise endurance trait (VT:0002332)                & maximum distance run on treadmill (CMO:0001406)      & NA                                                   & increased aerobic running capacity                  \\\\\n",
       "\\end{tabular}\n"
      ],
      "text/markdown": [
       "\n",
       "| GENE_RGD_ID | nhprotein_id | QTL_RGD_ID | QTL_SYMBOL | QTL_NAME | LOD | P_VALUE | TRAIT_NAME | MEASUREMENT_TYPE | ASSOCIATED_DISEASES | PHENOTYPES |\n",
       "|---|---|---|---|---|---|---|---|---|---|---|\n",
       "| 2003                                                 | 119941                                               |   70199                                              | Coreg1                                               | Compensatory renal growth QTL 1                      | 11.8                                                 |    NA                                                | kidney mass (VT:0002707)                             | compensatory renal growth score (CMO:0001894)        | NA                                                   | increased compensatory renal growth                  |\n",
       "| 2004                                                 | 119075                                               |  724558                                              | Plsm2                                                | Polydactyly-luxate syndrome (PLS) morphotypes QTL 2  |   NA                                                 | 3e-04                                                | hindlimb integrity trait (VT:0010563)                | hind foot phalanges count (CMO:0001949)              | polydactyly                                          | polydactyly                                          |\n",
       "| 2004                                                 | 119075                                               | 6903353                                              | Bp353                                                | Blood pressure QTL 353                               |  2.8                                                 |    NA                                                | arterial blood pressure trait (VT:2000000)           | diastolic blood pressure (CMO:0000005)               | hypertension                                         | increased systemic arterial diastolic blood pressure |\n",
       "| 2004                                                 | 119075                                               | 6903353                                              | Bp353                                                | Blood pressure QTL 353                               |  2.8                                                 |    NA                                                | arterial blood pressure trait (VT:2000000)           | diastolic blood pressure (CMO:0000005)               | hypertension                                         | salt-sensitive hypertension                          |\n",
       "| 2015                                                 | 119100                                               | 1298527                                              | Arunc2                                               | Aerobic running capacity QTL 2                       |  2.9                                                 |    NA                                                | exercise endurance trait (VT:0002332)                | maximum distance run on treadmill (CMO:0001406)      | NA                                                   | decreased aerobic running capacity                   |\n",
       "| 2015                                                 | 119100                                               | 1298527                                              | Arunc2                                               | Aerobic running capacity QTL 2                       |  2.9                                                 |    NA                                                | exercise endurance trait (VT:0002332)                | maximum distance run on treadmill (CMO:0001406)      | NA                                                   | increased aerobic running capacity                   |\n",
       "\n"
      ],
      "text/plain": [
       "  GENE_RGD_ID nhprotein_id QTL_RGD_ID QTL_SYMBOL\n",
       "1 2003        119941         70199    Coreg1    \n",
       "2 2004        119075        724558    Plsm2     \n",
       "3 2004        119075       6903353    Bp353     \n",
       "4 2004        119075       6903353    Bp353     \n",
       "5 2015        119100       1298527    Arunc2    \n",
       "6 2015        119100       1298527    Arunc2    \n",
       "  QTL_NAME                                            LOD  P_VALUE\n",
       "1 Compensatory renal growth QTL 1                     11.8    NA  \n",
       "2 Polydactyly-luxate syndrome (PLS) morphotypes QTL 2   NA 3e-04  \n",
       "3 Blood pressure QTL 353                               2.8    NA  \n",
       "4 Blood pressure QTL 353                               2.8    NA  \n",
       "5 Aerobic running capacity QTL 2                       2.9    NA  \n",
       "6 Aerobic running capacity QTL 2                       2.9    NA  \n",
       "  TRAIT_NAME                                \n",
       "1 kidney mass (VT:0002707)                  \n",
       "2 hindlimb integrity trait (VT:0010563)     \n",
       "3 arterial blood pressure trait (VT:2000000)\n",
       "4 arterial blood pressure trait (VT:2000000)\n",
       "5 exercise endurance trait (VT:0002332)     \n",
       "6 exercise endurance trait (VT:0002332)     \n",
       "  MEASUREMENT_TYPE                                ASSOCIATED_DISEASES\n",
       "1 compensatory renal growth score (CMO:0001894)   NA                 \n",
       "2 hind foot phalanges count (CMO:0001949)         polydactyly        \n",
       "3 diastolic blood pressure (CMO:0000005)          hypertension       \n",
       "4 diastolic blood pressure (CMO:0000005)          hypertension       \n",
       "5 maximum distance run on treadmill (CMO:0001406) NA                 \n",
       "6 maximum distance run on treadmill (CMO:0001406) NA                 \n",
       "  PHENOTYPES                                          \n",
       "1 increased compensatory renal growth                 \n",
       "2 polydactyly                                         \n",
       "3 increased systemic arterial diastolic blood pressure\n",
       "4 salt-sensitive hypertension                         \n",
       "5 decreased aerobic running capacity                  \n",
       "6 increased aerobic running capacity                  "
      ]
     },
     "metadata": {},
     "output_type": "display_data"
    }
   ],
   "source": [
    "rat_qtls <- merge(nhprot2rgd, qtl, by.x = \"GENE_RGD_ID\", by.y = \"CANDIDATE_GENE_RGD_IDS\")\n",
    "head(rat_qtls)"
   ]
  },
  {
   "cell_type": "code",
   "execution_count": 32,
   "metadata": {},
   "outputs": [
    {
     "data": {
      "text/html": [
       "1799"
      ],
      "text/latex": [
       "1799"
      ],
      "text/markdown": [
       "1799"
      ],
      "text/plain": [
       "[1] 1799"
      ]
     },
     "metadata": {},
     "output_type": "display_data"
    }
   ],
   "source": [
    "nrow(rat_qtls)"
   ]
  },
  {
   "cell_type": "code",
   "execution_count": 34,
   "metadata": {},
   "outputs": [],
   "source": [
    "RAT_QTLS_FILE <- '/Users/smathias/TCRD/data/RGD/rat_qtls.tsv'\n",
    "if(file.exists(RAT_QTLS_FILE)) {\n",
    "  file.remove(RAT_QTLS_FILE)\n",
    "}\n",
    "fwrite(rat_qtls, file = RAT_QTLS_FILE, sep = \"\\t\", col.names = T, row.names = F, quote = T, na = \"None\")"
   ]
  },
  {
   "cell_type": "markdown",
   "metadata": {},
   "source": [
    "# Get terms from DO, MP and RDO"
   ]
  },
  {
   "cell_type": "code",
   "execution_count": 35,
   "metadata": {},
   "outputs": [
    {
     "name": "stdout",
     "output_type": "stream",
     "text": [
      "Input contains no \\n. Taking this to be a filename to open\n",
      "File opened, filesize is 0.021729 GB.\n",
      "Memory mapping ... ok\n",
      "Detected eol as \\n only (no \\r afterwards), the UNIX and Mac standard.\n",
      "Positioned on line 28 after skip or autostart\n",
      "This line isn't blank and skip>0 so we're done\n",
      "Using supplied sep '\\t' ... found ok\n",
      "Detected 16 columns. Longest stretch was from line 28 to line 57\n",
      "Starting data input on line 28 (either column names or first row of data). First 10 characters: RGD_ID\tOBJ\n",
      "The line before starting line 28 is non-empty and will be ignored (it has too few or too many items to be column names or data): #16  ORIGINAL_REFERENCE original referenceAll the fields on line 28 are character fields. Treating as the column names.\n",
      "Count of eol: 118356 (including 1 at the end)\n",
      "Count of sep: 1775325\n",
      "nrow = MIN( nsep [1775325] / (ncol [16] -1), neol [118356] - endblanks [1] ) = 118355\n",
      "Type codes (point  0): 1444444444414044\n",
      "Type codes (point  1): 1444444444414044\n",
      "Type codes (point  2): 1444444444414044\n",
      "Type codes (point  3): 1444444444414044\n",
      "Type codes (point  4): 1444444444414044\n",
      "Type codes (point  5): 1444444444414044\n",
      "Type codes (point  6): 1444444444414044\n",
      "Type codes (point  7): 1444444444414044\n",
      "Type codes (point  8): 1444444444414044\n",
      "Type codes (point  9): 1444444444414044\n",
      "Type codes (point 10): 1444444444414044\n",
      "Type codes: 1444444444414044 (after applying colClasses and integer64)\n",
      "Type codes: 1444444444414044 (after applying drop or select (if supplied)\n",
      "Allocating 16 column slots (16 - 0 dropped)\n",
      "Read 118355 rows. Exactly what was estimated and allocated up front\n",
      "   0.001s (  0%) Memory map (rerun may be quicker)\n",
      "   0.000s (  0%) sep and header detection\n",
      "   0.036s ( 17%) Count rows (wc -l)\n",
      "   0.000s (  0%) Column type detection (100 rows at 10 points)\n",
      "   0.007s (  3%) Allocation of 118355x16 result (xMB) in RAM\n",
      "   0.169s ( 78%) Reading data\n",
      "   0.000s (  0%) Allocation for type bumps (if any), including gc time if triggered\n",
      "   0.000s (  0%) Coercing data already read in type bumps (if any)\n",
      "   0.002s (  1%) Changing na.strings to NA\n",
      "   0.216s        Total\n"
     ]
    },
    {
     "data": {
      "text/html": [
       "<table>\n",
       "<thead><tr><th scope=col>RGD_ID</th><th scope=col>OBJECT_SYMBOL</th><th scope=col>TERM_ACC_ID</th><th scope=col>TERM_NAME</th><th scope=col>QUALIFIER</th><th scope=col>EVIDENCE</th><th scope=col>ONTOLOGY</th></tr></thead>\n",
       "<tbody>\n",
       "\t<tr><td>  69651                           </td><td>Tgfbr2                            </td><td>DOID:14004                        </td><td>thoracic aortic aneurysm          </td><td>NA                                </td><td>ISS                               </td><td>Disease Ontology                  </td></tr>\n",
       "\t<tr><td>1310949                           </td><td>Sos1                              </td><td>DOID:0060582                      </td><td>Noonan syndrome 4                 </td><td>NA                                </td><td>ISS                               </td><td>Disease Ontology                  </td></tr>\n",
       "\t<tr><td> 620906                           </td><td>Six1                              </td><td>DOID:1612                         </td><td>breast cancer                     </td><td>severity                          </td><td>ISS                               </td><td>Disease Ontology                  </td></tr>\n",
       "\t<tr><td>   3075                           </td><td>Mecp2                             </td><td>DOID:1206                         </td><td>Rett syndrome                     </td><td>NA                                </td><td>ISS                               </td><td>Disease Ontology                  </td></tr>\n",
       "\t<tr><td>   2507                           </td><td>Dmd                               </td><td>DOID:0060561                      </td><td>DMD-related dilated cardiomyopathy</td><td>NA                                </td><td>ISS                               </td><td>Disease Ontology                  </td></tr>\n",
       "\t<tr><td> 620906                           </td><td>Six1                              </td><td>DOID:3459                         </td><td>breast carcinoma                  </td><td>severity                          </td><td>ISS                               </td><td>Disease Ontology                  </td></tr>\n",
       "</tbody>\n",
       "</table>\n"
      ],
      "text/latex": [
       "\\begin{tabular}{r|lllllll}\n",
       " RGD\\_ID & OBJECT\\_SYMBOL & TERM\\_ACC\\_ID & TERM\\_NAME & QUALIFIER & EVIDENCE & ONTOLOGY\\\\\n",
       "\\hline\n",
       "\t   69651                            & Tgfbr2                             & DOID:14004                         & thoracic aortic aneurysm           & NA                                 & ISS                                & Disease Ontology                  \\\\\n",
       "\t 1310949                            & Sos1                               & DOID:0060582                       & Noonan syndrome 4                  & NA                                 & ISS                                & Disease Ontology                  \\\\\n",
       "\t  620906                            & Six1                               & DOID:1612                          & breast cancer                      & severity                           & ISS                                & Disease Ontology                  \\\\\n",
       "\t    3075                            & Mecp2                              & DOID:1206                          & Rett syndrome                      & NA                                 & ISS                                & Disease Ontology                  \\\\\n",
       "\t    2507                            & Dmd                                & DOID:0060561                       & DMD-related dilated cardiomyopathy & NA                                 & ISS                                & Disease Ontology                  \\\\\n",
       "\t  620906                            & Six1                               & DOID:3459                          & breast carcinoma                   & severity                           & ISS                                & Disease Ontology                  \\\\\n",
       "\\end{tabular}\n"
      ],
      "text/markdown": [
       "\n",
       "| RGD_ID | OBJECT_SYMBOL | TERM_ACC_ID | TERM_NAME | QUALIFIER | EVIDENCE | ONTOLOGY |\n",
       "|---|---|---|---|---|---|---|\n",
       "|   69651                            | Tgfbr2                             | DOID:14004                         | thoracic aortic aneurysm           | NA                                 | ISS                                | Disease Ontology                   |\n",
       "| 1310949                            | Sos1                               | DOID:0060582                       | Noonan syndrome 4                  | NA                                 | ISS                                | Disease Ontology                   |\n",
       "|  620906                            | Six1                               | DOID:1612                          | breast cancer                      | severity                           | ISS                                | Disease Ontology                   |\n",
       "|    3075                            | Mecp2                              | DOID:1206                          | Rett syndrome                      | NA                                 | ISS                                | Disease Ontology                   |\n",
       "|    2507                            | Dmd                                | DOID:0060561                       | DMD-related dilated cardiomyopathy | NA                                 | ISS                                | Disease Ontology                   |\n",
       "|  620906                            | Six1                               | DOID:3459                          | breast carcinoma                   | severity                           | ISS                                | Disease Ontology                   |\n",
       "\n"
      ],
      "text/plain": [
       "  RGD_ID  OBJECT_SYMBOL TERM_ACC_ID  TERM_NAME                         \n",
       "1   69651 Tgfbr2        DOID:14004   thoracic aortic aneurysm          \n",
       "2 1310949 Sos1          DOID:0060582 Noonan syndrome 4                 \n",
       "3  620906 Six1          DOID:1612    breast cancer                     \n",
       "4    3075 Mecp2         DOID:1206    Rett syndrome                     \n",
       "5    2507 Dmd           DOID:0060561 DMD-related dilated cardiomyopathy\n",
       "6  620906 Six1          DOID:3459    breast carcinoma                  \n",
       "  QUALIFIER EVIDENCE ONTOLOGY        \n",
       "1 NA        ISS      Disease Ontology\n",
       "2 NA        ISS      Disease Ontology\n",
       "3 severity  ISS      Disease Ontology\n",
       "4 NA        ISS      Disease Ontology\n",
       "5 NA        ISS      Disease Ontology\n",
       "6 severity  ISS      Disease Ontology"
      ]
     },
     "metadata": {},
     "output_type": "display_data"
    }
   ],
   "source": [
    "rat.do <- fread(\"ftp://ftp.rgd.mcw.edu/pub/data_release/with_terms/rattus_terms_do\", sep = \"\\t\", na.strings = \"\", skip = 27, verbose = T, quote = \"\")\n",
    "rat.do <- rat.do[OBJECT_TYPE == \"gene\"]\n",
    "rat.do <- rat.do[, .(RGD_ID, OBJECT_SYMBOL, TERM_ACC_ID, TERM_NAME, QUALIFIER, EVIDENCE)]\n",
    "rat.do[, ONTOLOGY := \"Disease Ontology\"]\n",
    "rat.do <- rat.do[RGD_ID %in% rat_genes$GENE_RGD_ID]\n",
    "rat.do <- unique(rat.do, by = c(\"RGD_ID\", \"TERM_ACC_ID\"))\n",
    "head(rat.do)"
   ]
  },
  {
   "cell_type": "code",
   "execution_count": 36,
   "metadata": {},
   "outputs": [
    {
     "data": {
      "text/html": [
       "56338"
      ],
      "text/latex": [
       "56338"
      ],
      "text/markdown": [
       "56338"
      ],
      "text/plain": [
       "[1] 56338"
      ]
     },
     "metadata": {},
     "output_type": "display_data"
    }
   ],
   "source": [
    "nrow(rat.do)"
   ]
  },
  {
   "cell_type": "code",
   "execution_count": 37,
   "metadata": {},
   "outputs": [
    {
     "data": {
      "text/html": [
       "TRUE"
      ],
      "text/latex": [
       "TRUE"
      ],
      "text/markdown": [
       "TRUE"
      ],
      "text/plain": [
       "[1] TRUE"
      ]
     },
     "metadata": {},
     "output_type": "display_data"
    }
   ],
   "source": [
    "RAT_TERMS_FILE <- '/Users/smathias/TCRD/data/RGD/rat_terms.tsv'\n",
    "if(file.exists(RAT_TERMS_FILE)) {\n",
    "  file.remove(RAT_TERMS_FILE)\n",
    "}\n",
    "fwrite(rat.do, file = RAT_TERMS_FILE, append = file.exists(RAT_TERMS_FILE), col.names = !file.exists(RAT_TERMS_FILE), sep = \"\\t\", row.names = F, quote = T, na = \"None\")"
   ]
  },
  {
   "cell_type": "code",
   "execution_count": 38,
   "metadata": {},
   "outputs": [
    {
     "name": "stdout",
     "output_type": "stream",
     "text": [
      "Input contains no \\n. Taking this to be a filename to open\n",
      "File opened, filesize is 0.000915 GB.\n",
      "Memory mapping ... ok\n",
      "Detected eol as \\n only (no \\r afterwards), the UNIX and Mac standard.\n",
      "Positioned on line 28 after skip or autostart\n",
      "This line isn't blank and skip>0 so we're done\n",
      "Using supplied sep '\\t' ... found ok\n",
      "Detected 16 columns. Longest stretch was from line 28 to line 57\n",
      "Starting data input on line 28 (either column names or first row of data). First 10 characters: RGD_ID\tOBJ\n",
      "The line before starting line 28 is non-empty and will be ignored (it has too few or too many items to be column names or data): #16  ORIGINAL_REFERENCE original referenceAll the fields on line 28 are character fields. Treating as the column names.\n",
      "Count of eol: 7009 (including 1 at the end)\n",
      "Count of sep: 105120\n",
      "nrow = MIN( nsep [105120] / (ncol [16] -1), neol [7009] - endblanks [1] ) = 7008\n",
      "Type codes (point  0): 1444444444414040\n",
      "Type codes (point  1): 1444444444414040\n",
      "Type codes (point  2): 1444444444414040\n",
      "Type codes (point  3): 1444444444414040\n",
      "Type codes (point  4): 1444444444414040\n",
      "Type codes (point  5): 1444444444414040\n",
      "Type codes (point  6): 1444444444414040\n",
      "Type codes (point  7): 1444444444414040\n",
      "Type codes (point  8): 1444444444414040\n",
      "Type codes (point  9): 1444444444414040\n",
      "Type codes (point 10): 1444444444414040\n",
      "Type codes: 1444444444414040 (after applying colClasses and integer64)\n",
      "Type codes: 1444444444414040 (after applying drop or select (if supplied)\n",
      "Allocating 16 column slots (16 - 0 dropped)\n",
      "Read 7008 rows. Exactly what was estimated and allocated up front\n",
      "   0.000s (  2%) Memory map (rerun may be quicker)\n",
      "   0.000s (  0%) sep and header detection\n",
      "   0.002s ( 21%) Count rows (wc -l)\n",
      "   0.000s (  4%) Column type detection (100 rows at 10 points)\n",
      "   0.000s (  4%) Allocation of 7008x16 result (xMB) in RAM\n",
      "   0.008s ( 67%) Reading data\n",
      "   0.000s (  0%) Allocation for type bumps (if any), including gc time if triggered\n",
      "   0.000s (  0%) Coercing data already read in type bumps (if any)\n",
      "   0.000s (  2%) Changing na.strings to NA\n",
      "   0.011s        Total\n"
     ]
    },
    {
     "ename": "ERROR",
     "evalue": "Error in head(rat.pm): object 'rat.pm' not found\n",
     "output_type": "error",
     "traceback": [
      "Error in head(rat.pm): object 'rat.pm' not found\nTraceback:\n",
      "1. head(rat.pm)"
     ]
    }
   ],
   "source": [
    "rat.mp <- fread(\"ftp://ftp.rgd.mcw.edu/pub/data_release/with_terms/rattus_terms_mp\", sep = \"\\t\", na.strings = \"\", skip = 27, verbose = T, quote = \"\")\n",
    "rat.mp <- rat.mp[OBJECT_TYPE == \"gene\"]\n",
    "rat.mp <- rat.mp[, .(RGD_ID, OBJECT_SYMBOL, TERM_ACC_ID, TERM_NAME, QUALIFIER, EVIDENCE)]\n",
    "rat.mp[, ONTOLOGY := \"Mammalian Phenotype\"]\n",
    "rat.mp <- rat.mp[RGD_ID %in% rat_genes$GENE_RGD_ID]\n",
    "rat.mp <- unique(rat.mp, by = c(\"RGD_ID\", \"TERM_ACC_ID\"))\n",
    "head(rat.pm)"
   ]
  },
  {
   "cell_type": "code",
   "execution_count": 39,
   "metadata": {},
   "outputs": [
    {
     "data": {
      "text/html": [
       "1442"
      ],
      "text/latex": [
       "1442"
      ],
      "text/markdown": [
       "1442"
      ],
      "text/plain": [
       "[1] 1442"
      ]
     },
     "metadata": {},
     "output_type": "display_data"
    }
   ],
   "source": [
    "nrow(rat.mp)"
   ]
  },
  {
   "cell_type": "code",
   "execution_count": 40,
   "metadata": {},
   "outputs": [],
   "source": [
    "fwrite(rat.mp, file = RAT_TERMS_FILE, append = file.exists(RAT_TERMS_FILE), col.names = !file.exists(RAT_TERMS_FILE), sep = \"\\t\", row.names = F, quote = T, na = \"None\")"
   ]
  },
  {
   "cell_type": "code",
   "execution_count": 41,
   "metadata": {},
   "outputs": [
    {
     "name": "stdout",
     "output_type": "stream",
     "text": [
      "Input contains no \\n. Taking this to be a filename to open\n",
      "File opened, filesize is 0.025776 GB.\n",
      "Memory mapping ... ok\n",
      "Detected eol as \\n only (no \\r afterwards), the UNIX and Mac standard.\n",
      "Positioned on line 28 after skip or autostart\n",
      "This line isn't blank and skip>0 so we're done\n",
      "Using supplied sep '\\t' ... found ok\n",
      "Detected 16 columns. Longest stretch was from line 28 to line 57\n",
      "Starting data input on line 28 (either column names or first row of data). First 10 characters: RGD_ID\tOBJ\n",
      "The line before starting line 28 is non-empty and will be ignored (it has too few or too many items to be column names or data): #16  ORIGINAL_REFERENCE original referenceAll the fields on line 28 are character fields. Treating as the column names.\n",
      "Count of eol: 131216 (including 1 at the end)\n",
      "Count of sep: 1968225\n",
      "nrow = MIN( nsep [1968225] / (ncol [16] -1), neol [131216] - endblanks [1] ) = 131215\n",
      "Type codes (point  0): 1444444444414444\n",
      "Type codes (point  1): 1444444444414444\n",
      "Type codes (point  2): 1444444444414444\n",
      "Type codes (point  3): 1444444444414444\n",
      "Type codes (point  4): 1444444444414444\n",
      "Type codes (point  5): 1444444444414444\n",
      "Type codes (point  6): 1444444444414444\n",
      "Type codes (point  7): 1444444444414444\n",
      "Type codes (point  8): 1444444444414444\n",
      "Type codes (point  9): 1444444444414444\n",
      "Type codes (point 10): 1444444444414444\n",
      "Type codes: 1444444444414444 (after applying colClasses and integer64)\n",
      "Type codes: 1444444444414444 (after applying drop or select (if supplied)\n",
      "Allocating 16 column slots (16 - 0 dropped)\n",
      "Read 131215 rows. Exactly what was estimated and allocated up front\n",
      "   0.001s (  0%) Memory map (rerun may be quicker)\n",
      "   0.000s (  0%) sep and header detection\n",
      "   0.044s ( 16%) Count rows (wc -l)\n",
      "   0.000s (  0%) Column type detection (100 rows at 10 points)\n",
      "   0.007s (  3%) Allocation of 131215x16 result (xMB) in RAM\n",
      "   0.218s ( 80%) Reading data\n",
      "   0.000s (  0%) Allocation for type bumps (if any), including gc time if triggered\n",
      "   0.000s (  0%) Coercing data already read in type bumps (if any)\n",
      "   0.003s (  1%) Changing na.strings to NA\n",
      "   0.274s        Total\n"
     ]
    },
    {
     "data": {
      "text/html": [
       "<table>\n",
       "<thead><tr><th scope=col>RGD_ID</th><th scope=col>OBJECT_SYMBOL</th><th scope=col>TERM_ACC_ID</th><th scope=col>TERM_NAME</th><th scope=col>QUALIFIER</th><th scope=col>EVIDENCE</th><th scope=col>ONTOLOGY</th></tr></thead>\n",
       "<tbody>\n",
       "\t<tr><td> 708540                        </td><td>Cxcl6                          </td><td>RDO:0001650                    </td><td>Scleroderma, Diffuse           </td><td>NA                             </td><td>ISS                            </td><td>RGD Disease Ontology           </td></tr>\n",
       "\t<tr><td> 621528                        </td><td>Cxcr3                          </td><td>RDO:0001051                    </td><td>Myasthenia Gravis              </td><td>NA                             </td><td>ISS                            </td><td>RGD Disease Ontology           </td></tr>\n",
       "\t<tr><td>1590342                        </td><td>Adssl1                         </td><td>RDO:0005352                    </td><td>Diabetes Mellitus, Experimental</td><td>NA                             </td><td>IEP                            </td><td>RGD Disease Ontology           </td></tr>\n",
       "\t<tr><td>   3177                        </td><td>Ngfr                           </td><td>RDO:0006438                    </td><td>Pulmonary Fibrosis             </td><td>NA                             </td><td>ISS                            </td><td>RGD Disease Ontology           </td></tr>\n",
       "\t<tr><td>   3177                        </td><td>Ngfr                           </td><td>RDO:0006542                    </td><td>Sciatic Neuropathy             </td><td>NA                             </td><td>ISS                            </td><td>RGD Disease Ontology           </td></tr>\n",
       "\t<tr><td>   2097                        </td><td>Alox5ap                        </td><td>RDO:0004932                    </td><td>Asthma                         </td><td>NA                             </td><td>ISS                            </td><td>RGD Disease Ontology           </td></tr>\n",
       "</tbody>\n",
       "</table>\n"
      ],
      "text/latex": [
       "\\begin{tabular}{r|lllllll}\n",
       " RGD\\_ID & OBJECT\\_SYMBOL & TERM\\_ACC\\_ID & TERM\\_NAME & QUALIFIER & EVIDENCE & ONTOLOGY\\\\\n",
       "\\hline\n",
       "\t  708540                         & Cxcl6                           & RDO:0001650                     & Scleroderma, Diffuse            & NA                              & ISS                             & RGD Disease Ontology           \\\\\n",
       "\t  621528                         & Cxcr3                           & RDO:0001051                     & Myasthenia Gravis               & NA                              & ISS                             & RGD Disease Ontology           \\\\\n",
       "\t 1590342                         & Adssl1                          & RDO:0005352                     & Diabetes Mellitus, Experimental & NA                              & IEP                             & RGD Disease Ontology           \\\\\n",
       "\t    3177                         & Ngfr                            & RDO:0006438                     & Pulmonary Fibrosis              & NA                              & ISS                             & RGD Disease Ontology           \\\\\n",
       "\t    3177                         & Ngfr                            & RDO:0006542                     & Sciatic Neuropathy              & NA                              & ISS                             & RGD Disease Ontology           \\\\\n",
       "\t    2097                         & Alox5ap                         & RDO:0004932                     & Asthma                          & NA                              & ISS                             & RGD Disease Ontology           \\\\\n",
       "\\end{tabular}\n"
      ],
      "text/markdown": [
       "\n",
       "| RGD_ID | OBJECT_SYMBOL | TERM_ACC_ID | TERM_NAME | QUALIFIER | EVIDENCE | ONTOLOGY |\n",
       "|---|---|---|---|---|---|---|\n",
       "|  708540                         | Cxcl6                           | RDO:0001650                     | Scleroderma, Diffuse            | NA                              | ISS                             | RGD Disease Ontology            |\n",
       "|  621528                         | Cxcr3                           | RDO:0001051                     | Myasthenia Gravis               | NA                              | ISS                             | RGD Disease Ontology            |\n",
       "| 1590342                         | Adssl1                          | RDO:0005352                     | Diabetes Mellitus, Experimental | NA                              | IEP                             | RGD Disease Ontology            |\n",
       "|    3177                         | Ngfr                            | RDO:0006438                     | Pulmonary Fibrosis              | NA                              | ISS                             | RGD Disease Ontology            |\n",
       "|    3177                         | Ngfr                            | RDO:0006542                     | Sciatic Neuropathy              | NA                              | ISS                             | RGD Disease Ontology            |\n",
       "|    2097                         | Alox5ap                         | RDO:0004932                     | Asthma                          | NA                              | ISS                             | RGD Disease Ontology            |\n",
       "\n"
      ],
      "text/plain": [
       "  RGD_ID  OBJECT_SYMBOL TERM_ACC_ID TERM_NAME                       QUALIFIER\n",
       "1  708540 Cxcl6         RDO:0001650 Scleroderma, Diffuse            NA       \n",
       "2  621528 Cxcr3         RDO:0001051 Myasthenia Gravis               NA       \n",
       "3 1590342 Adssl1        RDO:0005352 Diabetes Mellitus, Experimental NA       \n",
       "4    3177 Ngfr          RDO:0006438 Pulmonary Fibrosis              NA       \n",
       "5    3177 Ngfr          RDO:0006542 Sciatic Neuropathy              NA       \n",
       "6    2097 Alox5ap       RDO:0004932 Asthma                          NA       \n",
       "  EVIDENCE ONTOLOGY            \n",
       "1 ISS      RGD Disease Ontology\n",
       "2 ISS      RGD Disease Ontology\n",
       "3 IEP      RGD Disease Ontology\n",
       "4 ISS      RGD Disease Ontology\n",
       "5 ISS      RGD Disease Ontology\n",
       "6 ISS      RGD Disease Ontology"
      ]
     },
     "metadata": {},
     "output_type": "display_data"
    }
   ],
   "source": [
    "rat.rdo <- fread(\"ftp://ftp.rgd.mcw.edu/pub/data_release/with_terms/rattus_terms_rdo\", sep = \"\\t\", na.strings = \"\", skip = 27, verbose = T, quote = \"\")\n",
    "rat.rdo <- rat.rdo[OBJECT_TYPE == \"gene\"]\n",
    "rat.rdo <- rat.rdo[, .(RGD_ID, OBJECT_SYMBOL, TERM_ACC_ID, TERM_NAME, QUALIFIER, EVIDENCE)]\n",
    "rat.rdo[, ONTOLOGY := \"RGD Disease Ontology\"]\n",
    "rat.rdo <- rat.rdo[RGD_ID %in% rat_genes$GENE_RGD_ID]\n",
    "rat.rdo <- unique(rat.rdo, by = c(\"RGD_ID\", \"TERM_ACC_ID\"))\n",
    "head(rat.rdo)"
   ]
  },
  {
   "cell_type": "code",
   "execution_count": 42,
   "metadata": {},
   "outputs": [
    {
     "data": {
      "text/html": [
       "59822"
      ],
      "text/latex": [
       "59822"
      ],
      "text/markdown": [
       "59822"
      ],
      "text/plain": [
       "[1] 59822"
      ]
     },
     "metadata": {},
     "output_type": "display_data"
    }
   ],
   "source": [
    "nrow(rat.rdo)"
   ]
  },
  {
   "cell_type": "code",
   "execution_count": 43,
   "metadata": {},
   "outputs": [],
   "source": [
    "fwrite(rat.rdo, file = RAT_TERMS_FILE, append = file.exists(RAT_TERMS_FILE), col.names = !file.exists(RAT_TERMS_FILE), sep = \"\\t\", row.names = F, quote = T, na = \"None\")"
   ]
  },
  {
   "cell_type": "code",
   "execution_count": null,
   "metadata": {},
   "outputs": [],
   "source": []
  }
 ],
 "metadata": {
  "kernelspec": {
   "display_name": "R",
   "language": "R",
   "name": "ir"
  },
  "language_info": {
   "codemirror_mode": "r",
   "file_extension": ".r",
   "mimetype": "text/x-r-source",
   "name": "R",
   "pygments_lexer": "r",
   "version": "3.4.2"
  }
 },
 "nbformat": 4,
 "nbformat_minor": 2
}
