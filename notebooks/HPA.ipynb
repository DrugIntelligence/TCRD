{
 "cells": [
  {
   "cell_type": "code",
   "execution_count": 1,
   "metadata": {},
   "outputs": [
    {
     "name": "stderr",
     "output_type": "stream",
     "text": [
      "Warning message:\n",
      "“package ‘dplyr’ was built under R version 3.4.4”\n",
      "Attaching package: ‘dplyr’\n",
      "\n",
      "The following objects are masked from ‘package:data.table’:\n",
      "\n",
      "    between, first, last\n",
      "\n",
      "The following objects are masked from ‘package:stats’:\n",
      "\n",
      "    filter, lag\n",
      "\n",
      "The following objects are masked from ‘package:base’:\n",
      "\n",
      "    intersect, setdiff, setequal, union\n",
      "\n",
      "Warning message:\n",
      "“package ‘RMySQL’ was built under R version 3.4.4”Warning message:\n",
      "“package ‘DBI’ was built under R version 3.4.4”"
     ]
    }
   ],
   "source": [
    "library(data.table)\n",
    "library(dplyr, quietly = T)\n",
    "library(RMySQL, quietly = T)"
   ]
  },
  {
   "cell_type": "markdown",
   "metadata": {},
   "source": [
    "## Connect to TCRD to get protein.ids and corresponding ENSGs"
   ]
  },
  {
   "cell_type": "code",
   "execution_count": 2,
   "metadata": {},
   "outputs": [
    {
     "data": {
      "text/html": [
       "TRUE"
      ],
      "text/latex": [
       "TRUE"
      ],
      "text/markdown": [
       "TRUE"
      ],
      "text/plain": [
       "[1] TRUE"
      ]
     },
     "metadata": {},
     "output_type": "display_data"
    },
    {
     "data": {
      "text/html": [
       "<table>\n",
       "<thead><tr><th scope=col>protein_id</th><th scope=col>ensg</th></tr></thead>\n",
       "<tbody>\n",
       "\t<tr><td>19154          </td><td>ENSG00000173598</td></tr>\n",
       "\t<tr><td>19154          </td><td>ENSG00000177144</td></tr>\n",
       "\t<tr><td>12316          </td><td>ENSG00000211637</td></tr>\n",
       "\t<tr><td>12222          </td><td>ENSG00000211638</td></tr>\n",
       "\t<tr><td>12315          </td><td>ENSG00000211639</td></tr>\n",
       "\t<tr><td>12255          </td><td>ENSG00000211642</td></tr>\n",
       "</tbody>\n",
       "</table>\n"
      ],
      "text/latex": [
       "\\begin{tabular}{r|ll}\n",
       " protein\\_id & ensg\\\\\n",
       "\\hline\n",
       "\t 19154           & ENSG00000173598\\\\\n",
       "\t 19154           & ENSG00000177144\\\\\n",
       "\t 12316           & ENSG00000211637\\\\\n",
       "\t 12222           & ENSG00000211638\\\\\n",
       "\t 12315           & ENSG00000211639\\\\\n",
       "\t 12255           & ENSG00000211642\\\\\n",
       "\\end{tabular}\n"
      ],
      "text/markdown": [
       "\n",
       "| protein_id | ensg |\n",
       "|---|---|\n",
       "| 19154           | ENSG00000173598 |\n",
       "| 19154           | ENSG00000177144 |\n",
       "| 12316           | ENSG00000211637 |\n",
       "| 12222           | ENSG00000211638 |\n",
       "| 12315           | ENSG00000211639 |\n",
       "| 12255           | ENSG00000211642 |\n",
       "\n"
      ],
      "text/plain": [
       "  protein_id ensg           \n",
       "1 19154      ENSG00000173598\n",
       "2 19154      ENSG00000177144\n",
       "3 12316      ENSG00000211637\n",
       "4 12222      ENSG00000211638\n",
       "5 12315      ENSG00000211639\n",
       "6 12255      ENSG00000211642"
      ]
     },
     "metadata": {},
     "output_type": "display_data"
    }
   ],
   "source": [
    "DBHOST <- 'localhost'\n",
    "DBNAME <- 'tcrd6'\n",
    "DBUSER <- 'smathias'\n",
    "\n",
    "dbconn <- dbConnect(MySQL(), host=DBHOST, dbname=DBNAME, user=DBUSER)\n",
    "sql <- \"SELECT p.id AS protein_id, x.value AS ensg \n",
    "        FROM protein p, xref x \n",
    "        WHERE p.id = x.protein_id AND x.xtype = 'ENSG'\"\n",
    "prots <- dbGetQuery(dbconn, sql)\n",
    "dbDisconnect(dbconn)\n",
    "rm(dbconn)\n",
    "setDT(prots) # convert data.frame to data.table\n",
    "head(prots)"
   ]
  },
  {
   "cell_type": "markdown",
   "metadata": {},
   "source": [
    "## Download and read input file"
   ]
  },
  {
   "cell_type": "code",
   "execution_count": 3,
   "metadata": {},
   "outputs": [
    {
     "data": {
      "text/html": [
       "<table>\n",
       "<thead><tr><th scope=col>Gene</th><th scope=col>Gene name</th><th scope=col>Tissue</th><th scope=col>Cell type</th><th scope=col>Level</th><th scope=col>Reliability</th></tr></thead>\n",
       "<tbody>\n",
       "\t<tr><td>ENSG00000000003    </td><td>TSPAN6             </td><td>adrenal gland      </td><td>glandular cells    </td><td>Not detected       </td><td>Approved           </td></tr>\n",
       "\t<tr><td>ENSG00000000003    </td><td>TSPAN6             </td><td>appendix           </td><td>glandular cells    </td><td>Medium             </td><td>Approved           </td></tr>\n",
       "\t<tr><td>ENSG00000000003    </td><td>TSPAN6             </td><td>appendix           </td><td>lymphoid tissue    </td><td>Not detected       </td><td>Approved           </td></tr>\n",
       "\t<tr><td>ENSG00000000003    </td><td>TSPAN6             </td><td>bone marrow        </td><td>hematopoietic cells</td><td>Not detected       </td><td>Approved           </td></tr>\n",
       "\t<tr><td>ENSG00000000003    </td><td>TSPAN6             </td><td>breast             </td><td>adipocytes         </td><td>Not detected       </td><td>Approved           </td></tr>\n",
       "\t<tr><td>ENSG00000000003    </td><td>TSPAN6             </td><td>breast             </td><td>glandular cells    </td><td>High               </td><td>Approved           </td></tr>\n",
       "</tbody>\n",
       "</table>\n"
      ],
      "text/latex": [
       "\\begin{tabular}{r|llllll}\n",
       " Gene & Gene name & Tissue & Cell type & Level & Reliability\\\\\n",
       "\\hline\n",
       "\t ENSG00000000003     & TSPAN6              & adrenal gland       & glandular cells     & Not detected        & Approved           \\\\\n",
       "\t ENSG00000000003     & TSPAN6              & appendix            & glandular cells     & Medium              & Approved           \\\\\n",
       "\t ENSG00000000003     & TSPAN6              & appendix            & lymphoid tissue     & Not detected        & Approved           \\\\\n",
       "\t ENSG00000000003     & TSPAN6              & bone marrow         & hematopoietic cells & Not detected        & Approved           \\\\\n",
       "\t ENSG00000000003     & TSPAN6              & breast              & adipocytes          & Not detected        & Approved           \\\\\n",
       "\t ENSG00000000003     & TSPAN6              & breast              & glandular cells     & High                & Approved           \\\\\n",
       "\\end{tabular}\n"
      ],
      "text/markdown": [
       "\n",
       "| Gene | Gene name | Tissue | Cell type | Level | Reliability |\n",
       "|---|---|---|---|---|---|\n",
       "| ENSG00000000003     | TSPAN6              | adrenal gland       | glandular cells     | Not detected        | Approved            |\n",
       "| ENSG00000000003     | TSPAN6              | appendix            | glandular cells     | Medium              | Approved            |\n",
       "| ENSG00000000003     | TSPAN6              | appendix            | lymphoid tissue     | Not detected        | Approved            |\n",
       "| ENSG00000000003     | TSPAN6              | bone marrow         | hematopoietic cells | Not detected        | Approved            |\n",
       "| ENSG00000000003     | TSPAN6              | breast              | adipocytes          | Not detected        | Approved            |\n",
       "| ENSG00000000003     | TSPAN6              | breast              | glandular cells     | High                | Approved            |\n",
       "\n"
      ],
      "text/plain": [
       "  Gene            Gene name Tissue        Cell type           Level       \n",
       "1 ENSG00000000003 TSPAN6    adrenal gland glandular cells     Not detected\n",
       "2 ENSG00000000003 TSPAN6    appendix      glandular cells     Medium      \n",
       "3 ENSG00000000003 TSPAN6    appendix      lymphoid tissue     Not detected\n",
       "4 ENSG00000000003 TSPAN6    bone marrow   hematopoietic cells Not detected\n",
       "5 ENSG00000000003 TSPAN6    breast        adipocytes          Not detected\n",
       "6 ENSG00000000003 TSPAN6    breast        glandular cells     High        \n",
       "  Reliability\n",
       "1 Approved   \n",
       "2 Approved   \n",
       "3 Approved   \n",
       "4 Approved   \n",
       "5 Approved   \n",
       "6 Approved   "
      ]
     },
     "metadata": {},
     "output_type": "display_data"
    }
   ],
   "source": [
    "#download.file(\"http://www.proteinatlas.org/download/normal_tissue.tsv.zip\", destfile = \"../data/HPA/normal_tissue.tsv.zip\")\n",
    "\n",
    "hpa <- fread(\"7z x -so ../data/HPA/normal_tissue.tsv.zip\", header = T, sep = \"\\t\", quote = \"\", na.strings = \"\")\n",
    "head(hpa)"
   ]
  },
  {
   "cell_type": "code",
   "execution_count": 4,
   "metadata": {},
   "outputs": [
    {
     "data": {
      "text/html": [
       "1053330"
      ],
      "text/latex": [
       "1053330"
      ],
      "text/markdown": [
       "1053330"
      ],
      "text/plain": [
       "[1] 1053330"
      ]
     },
     "metadata": {},
     "output_type": "display_data"
    }
   ],
   "source": [
    "nrow(hpa)"
   ]
  },
  {
   "cell_type": "markdown",
   "metadata": {},
   "source": [
    "## Join hpa and prots on ENSGs"
   ]
  },
  {
   "cell_type": "code",
   "execution_count": 5,
   "metadata": {},
   "outputs": [
    {
     "data": {
      "text/html": [
       "<table>\n",
       "<thead><tr><th scope=col>Gene</th><th scope=col>Gene name</th><th scope=col>Tissue</th><th scope=col>Cell type</th><th scope=col>Level</th><th scope=col>Reliability</th><th scope=col>protein_id</th></tr></thead>\n",
       "<tbody>\n",
       "\t<tr><td>ENSG00000000003    </td><td>TSPAN6             </td><td>adrenal gland      </td><td>glandular cells    </td><td>Not detected       </td><td>Approved           </td><td>9720               </td></tr>\n",
       "\t<tr><td>ENSG00000000003    </td><td>TSPAN6             </td><td>appendix           </td><td>glandular cells    </td><td>Medium             </td><td>Approved           </td><td>9720               </td></tr>\n",
       "\t<tr><td>ENSG00000000003    </td><td>TSPAN6             </td><td>appendix           </td><td>lymphoid tissue    </td><td>Not detected       </td><td>Approved           </td><td>9720               </td></tr>\n",
       "\t<tr><td>ENSG00000000003    </td><td>TSPAN6             </td><td>bone marrow        </td><td>hematopoietic cells</td><td>Not detected       </td><td>Approved           </td><td>9720               </td></tr>\n",
       "\t<tr><td>ENSG00000000003    </td><td>TSPAN6             </td><td>breast             </td><td>adipocytes         </td><td>Not detected       </td><td>Approved           </td><td>9720               </td></tr>\n",
       "\t<tr><td>ENSG00000000003    </td><td>TSPAN6             </td><td>breast             </td><td>glandular cells    </td><td>High               </td><td>Approved           </td><td>9720               </td></tr>\n",
       "</tbody>\n",
       "</table>\n"
      ],
      "text/latex": [
       "\\begin{tabular}{r|lllllll}\n",
       " Gene & Gene name & Tissue & Cell type & Level & Reliability & protein\\_id\\\\\n",
       "\\hline\n",
       "\t ENSG00000000003     & TSPAN6              & adrenal gland       & glandular cells     & Not detected        & Approved            & 9720               \\\\\n",
       "\t ENSG00000000003     & TSPAN6              & appendix            & glandular cells     & Medium              & Approved            & 9720               \\\\\n",
       "\t ENSG00000000003     & TSPAN6              & appendix            & lymphoid tissue     & Not detected        & Approved            & 9720               \\\\\n",
       "\t ENSG00000000003     & TSPAN6              & bone marrow         & hematopoietic cells & Not detected        & Approved            & 9720               \\\\\n",
       "\t ENSG00000000003     & TSPAN6              & breast              & adipocytes          & Not detected        & Approved            & 9720               \\\\\n",
       "\t ENSG00000000003     & TSPAN6              & breast              & glandular cells     & High                & Approved            & 9720               \\\\\n",
       "\\end{tabular}\n"
      ],
      "text/markdown": [
       "\n",
       "| Gene | Gene name | Tissue | Cell type | Level | Reliability | protein_id |\n",
       "|---|---|---|---|---|---|---|\n",
       "| ENSG00000000003     | TSPAN6              | adrenal gland       | glandular cells     | Not detected        | Approved            | 9720                |\n",
       "| ENSG00000000003     | TSPAN6              | appendix            | glandular cells     | Medium              | Approved            | 9720                |\n",
       "| ENSG00000000003     | TSPAN6              | appendix            | lymphoid tissue     | Not detected        | Approved            | 9720                |\n",
       "| ENSG00000000003     | TSPAN6              | bone marrow         | hematopoietic cells | Not detected        | Approved            | 9720                |\n",
       "| ENSG00000000003     | TSPAN6              | breast              | adipocytes          | Not detected        | Approved            | 9720                |\n",
       "| ENSG00000000003     | TSPAN6              | breast              | glandular cells     | High                | Approved            | 9720                |\n",
       "\n"
      ],
      "text/plain": [
       "  Gene            Gene name Tissue        Cell type           Level       \n",
       "1 ENSG00000000003 TSPAN6    adrenal gland glandular cells     Not detected\n",
       "2 ENSG00000000003 TSPAN6    appendix      glandular cells     Medium      \n",
       "3 ENSG00000000003 TSPAN6    appendix      lymphoid tissue     Not detected\n",
       "4 ENSG00000000003 TSPAN6    bone marrow   hematopoietic cells Not detected\n",
       "5 ENSG00000000003 TSPAN6    breast        adipocytes          Not detected\n",
       "6 ENSG00000000003 TSPAN6    breast        glandular cells     High        \n",
       "  Reliability protein_id\n",
       "1 Approved    9720      \n",
       "2 Approved    9720      \n",
       "3 Approved    9720      \n",
       "4 Approved    9720      \n",
       "5 Approved    9720      \n",
       "6 Approved    9720      "
      ]
     },
     "metadata": {},
     "output_type": "display_data"
    }
   ],
   "source": [
    "hpa <- merge(hpa, prots, by.x = \"Gene\", by.y = \"ensg\")\n",
    "head(hpa)"
   ]
  },
  {
   "cell_type": "code",
   "execution_count": 6,
   "metadata": {},
   "outputs": [
    {
     "data": {
      "text/html": [
       "1049601"
      ],
      "text/latex": [
       "1049601"
      ],
      "text/markdown": [
       "1049601"
      ],
      "text/plain": [
       "[1] 1049601"
      ]
     },
     "metadata": {},
     "output_type": "display_data"
    }
   ],
   "source": [
    "nrow(hpa)"
   ]
  },
  {
   "cell_type": "markdown",
   "metadata": {},
   "source": [
    "## Cleanup\n",
    "### First, there are tissues like 'skin 1' and 'skin 2', etc. Get rid of the numbers"
   ]
  },
  {
   "cell_type": "code",
   "execution_count": 7,
   "metadata": {},
   "outputs": [],
   "source": [
    "hpa[, Tissue := sub(\"\\\\s\\\\d+$\",\"\", Tissue)]"
   ]
  },
  {
   "cell_type": "markdown",
   "metadata": {},
   "source": [
    "### Combine `Tissue` and `Cell type` into one field"
   ]
  },
  {
   "cell_type": "code",
   "execution_count": 8,
   "metadata": {},
   "outputs": [
    {
     "data": {
      "text/html": [
       "<table>\n",
       "<thead><tr><th scope=col>Gene</th><th scope=col>Gene name</th><th scope=col>Tissue</th><th scope=col>Level</th><th scope=col>Reliability</th><th scope=col>protein_id</th></tr></thead>\n",
       "<tbody>\n",
       "\t<tr><td>ENSG00000000003                  </td><td>TSPAN6                           </td><td>adrenal gland - glandular cells  </td><td>Not detected                     </td><td>Approved                         </td><td>9720                             </td></tr>\n",
       "\t<tr><td>ENSG00000000003                  </td><td>TSPAN6                           </td><td>appendix - glandular cells       </td><td>Medium                           </td><td>Approved                         </td><td>9720                             </td></tr>\n",
       "\t<tr><td>ENSG00000000003                  </td><td>TSPAN6                           </td><td>appendix - lymphoid tissue       </td><td>Not detected                     </td><td>Approved                         </td><td>9720                             </td></tr>\n",
       "\t<tr><td>ENSG00000000003                  </td><td>TSPAN6                           </td><td>bone marrow - hematopoietic cells</td><td>Not detected                     </td><td>Approved                         </td><td>9720                             </td></tr>\n",
       "\t<tr><td>ENSG00000000003                  </td><td>TSPAN6                           </td><td>breast - adipocytes              </td><td>Not detected                     </td><td>Approved                         </td><td>9720                             </td></tr>\n",
       "\t<tr><td>ENSG00000000003                  </td><td>TSPAN6                           </td><td>breast - glandular cells         </td><td>High                             </td><td>Approved                         </td><td>9720                             </td></tr>\n",
       "</tbody>\n",
       "</table>\n"
      ],
      "text/latex": [
       "\\begin{tabular}{r|llllll}\n",
       " Gene & Gene name & Tissue & Level & Reliability & protein\\_id\\\\\n",
       "\\hline\n",
       "\t ENSG00000000003                   & TSPAN6                            & adrenal gland - glandular cells   & Not detected                      & Approved                          & 9720                             \\\\\n",
       "\t ENSG00000000003                   & TSPAN6                            & appendix - glandular cells        & Medium                            & Approved                          & 9720                             \\\\\n",
       "\t ENSG00000000003                   & TSPAN6                            & appendix - lymphoid tissue        & Not detected                      & Approved                          & 9720                             \\\\\n",
       "\t ENSG00000000003                   & TSPAN6                            & bone marrow - hematopoietic cells & Not detected                      & Approved                          & 9720                             \\\\\n",
       "\t ENSG00000000003                   & TSPAN6                            & breast - adipocytes               & Not detected                      & Approved                          & 9720                             \\\\\n",
       "\t ENSG00000000003                   & TSPAN6                            & breast - glandular cells          & High                              & Approved                          & 9720                             \\\\\n",
       "\\end{tabular}\n"
      ],
      "text/markdown": [
       "\n",
       "| Gene | Gene name | Tissue | Level | Reliability | protein_id |\n",
       "|---|---|---|---|---|---|\n",
       "| ENSG00000000003                   | TSPAN6                            | adrenal gland - glandular cells   | Not detected                      | Approved                          | 9720                              |\n",
       "| ENSG00000000003                   | TSPAN6                            | appendix - glandular cells        | Medium                            | Approved                          | 9720                              |\n",
       "| ENSG00000000003                   | TSPAN6                            | appendix - lymphoid tissue        | Not detected                      | Approved                          | 9720                              |\n",
       "| ENSG00000000003                   | TSPAN6                            | bone marrow - hematopoietic cells | Not detected                      | Approved                          | 9720                              |\n",
       "| ENSG00000000003                   | TSPAN6                            | breast - adipocytes               | Not detected                      | Approved                          | 9720                              |\n",
       "| ENSG00000000003                   | TSPAN6                            | breast - glandular cells          | High                              | Approved                          | 9720                              |\n",
       "\n"
      ],
      "text/plain": [
       "  Gene            Gene name Tissue                            Level       \n",
       "1 ENSG00000000003 TSPAN6    adrenal gland - glandular cells   Not detected\n",
       "2 ENSG00000000003 TSPAN6    appendix - glandular cells        Medium      \n",
       "3 ENSG00000000003 TSPAN6    appendix - lymphoid tissue        Not detected\n",
       "4 ENSG00000000003 TSPAN6    bone marrow - hematopoietic cells Not detected\n",
       "5 ENSG00000000003 TSPAN6    breast - adipocytes               Not detected\n",
       "6 ENSG00000000003 TSPAN6    breast - glandular cells          High        \n",
       "  Reliability protein_id\n",
       "1 Approved    9720      \n",
       "2 Approved    9720      \n",
       "3 Approved    9720      \n",
       "4 Approved    9720      \n",
       "5 Approved    9720      \n",
       "6 Approved    9720      "
      ]
     },
     "metadata": {},
     "output_type": "display_data"
    }
   ],
   "source": [
    "hpa <- mutate(hpa, Tissue = paste(Tissue, `Cell type`, sep = \" - \"))\n",
    "hpa$`Cell type` <- NULL\n",
    "head(hpa)"
   ]
  },
  {
   "cell_type": "code",
   "execution_count": 9,
   "metadata": {},
   "outputs": [
    {
     "data": {
      "text/html": [
       "<ol class=list-inline>\n",
       "\t<li>'Approved'</li>\n",
       "\t<li>'Uncertain'</li>\n",
       "\t<li>'Enhanced'</li>\n",
       "\t<li>'Supported'</li>\n",
       "</ol>\n"
      ],
      "text/latex": [
       "\\begin{enumerate*}\n",
       "\\item 'Approved'\n",
       "\\item 'Uncertain'\n",
       "\\item 'Enhanced'\n",
       "\\item 'Supported'\n",
       "\\end{enumerate*}\n"
      ],
      "text/markdown": [
       "1. 'Approved'\n",
       "2. 'Uncertain'\n",
       "3. 'Enhanced'\n",
       "4. 'Supported'\n",
       "\n",
       "\n"
      ],
      "text/plain": [
       "[1] \"Approved\"  \"Uncertain\" \"Enhanced\"  \"Supported\""
      ]
     },
     "metadata": {},
     "output_type": "display_data"
    },
    {
     "data": {
      "text/plain": [
       "\n",
       "        High          Low       Medium Not detected \n",
       "      119229       181352       291486       457534 "
      ]
     },
     "metadata": {},
     "output_type": "display_data"
    }
   ],
   "source": [
    "unique(hpa$Reliability)\n",
    "table(hpa$Level)"
   ]
  },
  {
   "cell_type": "markdown",
   "metadata": {},
   "source": [
    "### Get rid of rows with Uncertain Reliability"
   ]
  },
  {
   "cell_type": "code",
   "execution_count": 10,
   "metadata": {},
   "outputs": [
    {
     "data": {
      "text/html": [
       "846061"
      ],
      "text/latex": [
       "846061"
      ],
      "text/markdown": [
       "846061"
      ],
      "text/plain": [
       "[1] 846061"
      ]
     },
     "metadata": {},
     "output_type": "display_data"
    },
    {
     "data": {
      "text/plain": [
       "\n",
       "        High          Low       Medium Not detected \n",
       "      100359       138362       228135       379205 "
      ]
     },
     "metadata": {},
     "output_type": "display_data"
    },
    {
     "data": {
      "text/plain": [
       "\n",
       " Approved  Enhanced Supported \n",
       "   430705    296905    118451 "
      ]
     },
     "metadata": {},
     "output_type": "display_data"
    }
   ],
   "source": [
    "hpa <- filter(hpa, Reliability != \"Uncertain\")\n",
    "setDT(hpa)\n",
    "nrow(hpa)\n",
    "table(hpa$Level)\n",
    "table(hpa$Reliability)"
   ]
  },
  {
   "cell_type": "markdown",
   "metadata": {},
   "source": [
    "### Convert Reliabliity and Level columns into ordered factors"
   ]
  },
  {
   "cell_type": "code",
   "execution_count": 11,
   "metadata": {},
   "outputs": [
    {
     "data": {
      "text/html": [
       "846061"
      ],
      "text/latex": [
       "846061"
      ],
      "text/markdown": [
       "846061"
      ],
      "text/plain": [
       "[1] 846061"
      ]
     },
     "metadata": {},
     "output_type": "display_data"
    },
    {
     "data": {
      "text/plain": [
       "\n",
       "Not detected          Low       Medium         High \n",
       "      379205       138362       228135       100359 "
      ]
     },
     "metadata": {},
     "output_type": "display_data"
    },
    {
     "data": {
      "text/plain": [
       "\n",
       " Enhanced Supported  Approved \n",
       "   296905    118451    430705 "
      ]
     },
     "metadata": {},
     "output_type": "display_data"
    }
   ],
   "source": [
    "hpa[, Level := factor(x = Level, levels = c(\"Not detected\", \"Low\", \"Medium\", \"High\"), ordered = T)]\n",
    "hpa[, Reliability := factor(x = Reliability, levels = c(\"Enhanced\", \"Supported\", \"Approved\"), ordered = T)]\n",
    "nrow(hpa)\n",
    "table(hpa$Level)\n",
    "table(hpa$Reliability)"
   ]
  },
  {
   "cell_type": "markdown",
   "metadata": {},
   "source": [
    "## Group by protein_id and Tissue; then order (descending) by Reliability and Level keeping only the most reliable value for a given protein_id/Tissue"
   ]
  },
  {
   "cell_type": "code",
   "execution_count": 12,
   "metadata": {},
   "outputs": [
    {
     "data": {
      "text/html": [
       "<table>\n",
       "<thead><tr><th scope=col>protein_id</th><th scope=col>Tissue</th><th scope=col>Gene</th><th scope=col>Gene name</th><th scope=col>Level</th><th scope=col>Reliability</th></tr></thead>\n",
       "<tbody>\n",
       "\t<tr><td>9720                             </td><td>adrenal gland - glandular cells  </td><td>ENSG00000000003                  </td><td>TSPAN6                           </td><td>Not detected                     </td><td>Approved                         </td></tr>\n",
       "\t<tr><td>9720                             </td><td>appendix - glandular cells       </td><td>ENSG00000000003                  </td><td>TSPAN6                           </td><td>Medium                           </td><td>Approved                         </td></tr>\n",
       "\t<tr><td>9720                             </td><td>appendix - lymphoid tissue       </td><td>ENSG00000000003                  </td><td>TSPAN6                           </td><td>Not detected                     </td><td>Approved                         </td></tr>\n",
       "\t<tr><td>9720                             </td><td>bone marrow - hematopoietic cells</td><td>ENSG00000000003                  </td><td>TSPAN6                           </td><td>Not detected                     </td><td>Approved                         </td></tr>\n",
       "\t<tr><td>9720                             </td><td>breast - adipocytes              </td><td>ENSG00000000003                  </td><td>TSPAN6                           </td><td>Not detected                     </td><td>Approved                         </td></tr>\n",
       "\t<tr><td>9720                             </td><td>breast - glandular cells         </td><td>ENSG00000000003                  </td><td>TSPAN6                           </td><td>High                             </td><td>Approved                         </td></tr>\n",
       "</tbody>\n",
       "</table>\n"
      ],
      "text/latex": [
       "\\begin{tabular}{r|llllll}\n",
       " protein\\_id & Tissue & Gene & Gene name & Level & Reliability\\\\\n",
       "\\hline\n",
       "\t 9720                              & adrenal gland - glandular cells   & ENSG00000000003                   & TSPAN6                            & Not detected                      & Approved                         \\\\\n",
       "\t 9720                              & appendix - glandular cells        & ENSG00000000003                   & TSPAN6                            & Medium                            & Approved                         \\\\\n",
       "\t 9720                              & appendix - lymphoid tissue        & ENSG00000000003                   & TSPAN6                            & Not detected                      & Approved                         \\\\\n",
       "\t 9720                              & bone marrow - hematopoietic cells & ENSG00000000003                   & TSPAN6                            & Not detected                      & Approved                         \\\\\n",
       "\t 9720                              & breast - adipocytes               & ENSG00000000003                   & TSPAN6                            & Not detected                      & Approved                         \\\\\n",
       "\t 9720                              & breast - glandular cells          & ENSG00000000003                   & TSPAN6                            & High                              & Approved                         \\\\\n",
       "\\end{tabular}\n"
      ],
      "text/markdown": [
       "\n",
       "| protein_id | Tissue | Gene | Gene name | Level | Reliability |\n",
       "|---|---|---|---|---|---|\n",
       "| 9720                              | adrenal gland - glandular cells   | ENSG00000000003                   | TSPAN6                            | Not detected                      | Approved                          |\n",
       "| 9720                              | appendix - glandular cells        | ENSG00000000003                   | TSPAN6                            | Medium                            | Approved                          |\n",
       "| 9720                              | appendix - lymphoid tissue        | ENSG00000000003                   | TSPAN6                            | Not detected                      | Approved                          |\n",
       "| 9720                              | bone marrow - hematopoietic cells | ENSG00000000003                   | TSPAN6                            | Not detected                      | Approved                          |\n",
       "| 9720                              | breast - adipocytes               | ENSG00000000003                   | TSPAN6                            | Not detected                      | Approved                          |\n",
       "| 9720                              | breast - glandular cells          | ENSG00000000003                   | TSPAN6                            | High                              | Approved                          |\n",
       "\n"
      ],
      "text/plain": [
       "  protein_id Tissue                            Gene            Gene name\n",
       "1 9720       adrenal gland - glandular cells   ENSG00000000003 TSPAN6   \n",
       "2 9720       appendix - glandular cells        ENSG00000000003 TSPAN6   \n",
       "3 9720       appendix - lymphoid tissue        ENSG00000000003 TSPAN6   \n",
       "4 9720       bone marrow - hematopoietic cells ENSG00000000003 TSPAN6   \n",
       "5 9720       breast - adipocytes               ENSG00000000003 TSPAN6   \n",
       "6 9720       breast - glandular cells          ENSG00000000003 TSPAN6   \n",
       "  Level        Reliability\n",
       "1 Not detected Approved   \n",
       "2 Medium       Approved   \n",
       "3 Not detected Approved   \n",
       "4 Not detected Approved   \n",
       "5 Not detected Approved   \n",
       "6 High         Approved   "
      ]
     },
     "metadata": {},
     "output_type": "display_data"
    },
    {
     "data": {
      "text/html": [
       "782711"
      ],
      "text/latex": [
       "782711"
      ],
      "text/markdown": [
       "782711"
      ],
      "text/plain": [
       "[1] 782711"
      ]
     },
     "metadata": {},
     "output_type": "display_data"
    }
   ],
   "source": [
    "#hpa <- hpa[1:1000,]\n",
    "hpa <- hpa[, head(.SD[order(-Reliability, -Level)], 1), by = .(protein_id, Tissue)]\n",
    "head(hpa)\n",
    "nrow(hpa)"
   ]
  },
  {
   "cell_type": "code",
   "execution_count": 13,
   "metadata": {},
   "outputs": [
    {
     "data": {
      "text/html": [
       "10498"
      ],
      "text/latex": [
       "10498"
      ],
      "text/markdown": [
       "10498"
      ],
      "text/plain": [
       "[1] 10498"
      ]
     },
     "metadata": {},
     "output_type": "display_data"
    },
    {
     "data": {
      "text/html": [
       "<table>\n",
       "<thead><tr><th scope=col>Gene</th><th scope=col>TAU</th></tr></thead>\n",
       "<tbody>\n",
       "\t<tr><td>ENSG00000000003</td><td>0.6392694      </td></tr>\n",
       "\t<tr><td>ENSG00000000419</td><td>0.3288288      </td></tr>\n",
       "\t<tr><td>ENSG00000000457</td><td>0.5571429      </td></tr>\n",
       "\t<tr><td>ENSG00000000938</td><td>0.9178082      </td></tr>\n",
       "\t<tr><td>ENSG00000000971</td><td>      NaN      </td></tr>\n",
       "\t<tr><td>ENSG00000001084</td><td>0.6027397      </td></tr>\n",
       "</tbody>\n",
       "</table>\n"
      ],
      "text/latex": [
       "\\begin{tabular}{r|ll}\n",
       " Gene & TAU\\\\\n",
       "\\hline\n",
       "\t ENSG00000000003 & 0.6392694      \\\\\n",
       "\t ENSG00000000419 & 0.3288288      \\\\\n",
       "\t ENSG00000000457 & 0.5571429      \\\\\n",
       "\t ENSG00000000938 & 0.9178082      \\\\\n",
       "\t ENSG00000000971 &       NaN      \\\\\n",
       "\t ENSG00000001084 & 0.6027397      \\\\\n",
       "\\end{tabular}\n"
      ],
      "text/markdown": [
       "\n",
       "| Gene | TAU |\n",
       "|---|---|\n",
       "| ENSG00000000003 | 0.6392694       |\n",
       "| ENSG00000000419 | 0.3288288       |\n",
       "| ENSG00000000457 | 0.5571429       |\n",
       "| ENSG00000000938 | 0.9178082       |\n",
       "| ENSG00000000971 |       NaN       |\n",
       "| ENSG00000001084 | 0.6027397       |\n",
       "\n"
      ],
      "text/plain": [
       "  Gene            TAU      \n",
       "1 ENSG00000000003 0.6392694\n",
       "2 ENSG00000000419 0.3288288\n",
       "3 ENSG00000000457 0.5571429\n",
       "4 ENSG00000000938 0.9178082\n",
       "5 ENSG00000000971       NaN\n",
       "6 ENSG00000001084 0.6027397"
      ]
     },
     "metadata": {},
     "output_type": "display_data"
    }
   ],
   "source": [
    "hpa_tau <- function(exps) {\n",
    "  exps$Level2 <- numeric(nrow(exps))\n",
    "  exps$Level2[exps$Level == \"Not detected\"] <- 0\n",
    "  exps$Level2[exps$Level == \"Low\"] <- 1\n",
    "  exps$Level2[exps$Level == \"Medium\"] <- 2\n",
    "  exps$Level2[exps$Level == \"High\"] <- 3\n",
    "  #exps$Level2 <- as.numeric(exps$Level2)\n",
    "  exps <- group_by(exps, Tissue) %>% summarize(Level2 = median(Level2))  \n",
    "  tau <- sum(1-(exps$Level2/max(exps$Level2)))/(length(unique(exps$Tissue)) - 1)\n",
    "  return(tau)\n",
    "}\n",
    "\n",
    "hpa.tau <- group_by(hpa, Gene) %>% do(TAU = hpa_tau(.))\n",
    "hpa.tau$TAU <- unlist(hpa.tau$TAU)\n",
    "nrow(hpa.tau)\n",
    "head(hpa.tau)"
   ]
  },
  {
   "cell_type": "code",
   "execution_count": 15,
   "metadata": {},
   "outputs": [
    {
     "data": {
      "text/html": [
       "782711"
      ],
      "text/latex": [
       "782711"
      ],
      "text/markdown": [
       "782711"
      ],
      "text/plain": [
       "[1] 782711"
      ]
     },
     "metadata": {},
     "output_type": "display_data"
    },
    {
     "data": {
      "text/html": [
       "<table>\n",
       "<thead><tr><th scope=col>Gene</th><th scope=col>protein_id</th><th scope=col>Tissue</th><th scope=col>Gene name</th><th scope=col>Level</th><th scope=col>Reliability</th><th scope=col>TAU</th></tr></thead>\n",
       "<tbody>\n",
       "\t<tr><td>ENSG00000000003                  </td><td>9720                             </td><td>adrenal gland - glandular cells  </td><td>TSPAN6                           </td><td>Not detected                     </td><td>Approved                         </td><td>0.6392694                        </td></tr>\n",
       "\t<tr><td>ENSG00000000003                  </td><td>9720                             </td><td>appendix - glandular cells       </td><td>TSPAN6                           </td><td>Medium                           </td><td>Approved                         </td><td>0.6392694                        </td></tr>\n",
       "\t<tr><td>ENSG00000000003                  </td><td>9720                             </td><td>appendix - lymphoid tissue       </td><td>TSPAN6                           </td><td>Not detected                     </td><td>Approved                         </td><td>0.6392694                        </td></tr>\n",
       "\t<tr><td>ENSG00000000003                  </td><td>9720                             </td><td>bone marrow - hematopoietic cells</td><td>TSPAN6                           </td><td>Not detected                     </td><td>Approved                         </td><td>0.6392694                        </td></tr>\n",
       "\t<tr><td>ENSG00000000003                  </td><td>9720                             </td><td>breast - adipocytes              </td><td>TSPAN6                           </td><td>Not detected                     </td><td>Approved                         </td><td>0.6392694                        </td></tr>\n",
       "\t<tr><td>ENSG00000000003                  </td><td>9720                             </td><td>breast - glandular cells         </td><td>TSPAN6                           </td><td>High                             </td><td>Approved                         </td><td>0.6392694                        </td></tr>\n",
       "</tbody>\n",
       "</table>\n"
      ],
      "text/latex": [
       "\\begin{tabular}{r|lllllll}\n",
       " Gene & protein\\_id & Tissue & Gene name & Level & Reliability & TAU\\\\\n",
       "\\hline\n",
       "\t ENSG00000000003                   & 9720                              & adrenal gland - glandular cells   & TSPAN6                            & Not detected                      & Approved                          & 0.6392694                        \\\\\n",
       "\t ENSG00000000003                   & 9720                              & appendix - glandular cells        & TSPAN6                            & Medium                            & Approved                          & 0.6392694                        \\\\\n",
       "\t ENSG00000000003                   & 9720                              & appendix - lymphoid tissue        & TSPAN6                            & Not detected                      & Approved                          & 0.6392694                        \\\\\n",
       "\t ENSG00000000003                   & 9720                              & bone marrow - hematopoietic cells & TSPAN6                            & Not detected                      & Approved                          & 0.6392694                        \\\\\n",
       "\t ENSG00000000003                   & 9720                              & breast - adipocytes               & TSPAN6                            & Not detected                      & Approved                          & 0.6392694                        \\\\\n",
       "\t ENSG00000000003                   & 9720                              & breast - glandular cells          & TSPAN6                            & High                              & Approved                          & 0.6392694                        \\\\\n",
       "\\end{tabular}\n"
      ],
      "text/markdown": [
       "\n",
       "| Gene | protein_id | Tissue | Gene name | Level | Reliability | TAU |\n",
       "|---|---|---|---|---|---|---|\n",
       "| ENSG00000000003                   | 9720                              | adrenal gland - glandular cells   | TSPAN6                            | Not detected                      | Approved                          | 0.6392694                         |\n",
       "| ENSG00000000003                   | 9720                              | appendix - glandular cells        | TSPAN6                            | Medium                            | Approved                          | 0.6392694                         |\n",
       "| ENSG00000000003                   | 9720                              | appendix - lymphoid tissue        | TSPAN6                            | Not detected                      | Approved                          | 0.6392694                         |\n",
       "| ENSG00000000003                   | 9720                              | bone marrow - hematopoietic cells | TSPAN6                            | Not detected                      | Approved                          | 0.6392694                         |\n",
       "| ENSG00000000003                   | 9720                              | breast - adipocytes               | TSPAN6                            | Not detected                      | Approved                          | 0.6392694                         |\n",
       "| ENSG00000000003                   | 9720                              | breast - glandular cells          | TSPAN6                            | High                              | Approved                          | 0.6392694                         |\n",
       "\n"
      ],
      "text/plain": [
       "  Gene            protein_id Tissue                            Gene name\n",
       "1 ENSG00000000003 9720       adrenal gland - glandular cells   TSPAN6   \n",
       "2 ENSG00000000003 9720       appendix - glandular cells        TSPAN6   \n",
       "3 ENSG00000000003 9720       appendix - lymphoid tissue        TSPAN6   \n",
       "4 ENSG00000000003 9720       bone marrow - hematopoietic cells TSPAN6   \n",
       "5 ENSG00000000003 9720       breast - adipocytes               TSPAN6   \n",
       "6 ENSG00000000003 9720       breast - glandular cells          TSPAN6   \n",
       "  Level        Reliability TAU      \n",
       "1 Not detected Approved    0.6392694\n",
       "2 Medium       Approved    0.6392694\n",
       "3 Not detected Approved    0.6392694\n",
       "4 Not detected Approved    0.6392694\n",
       "5 Not detected Approved    0.6392694\n",
       "6 High         Approved    0.6392694"
      ]
     },
     "metadata": {},
     "output_type": "display_data"
    }
   ],
   "source": [
    "hpa <- merge(hpa, hpa.tau, by.x = \"Gene\", by.y = \"Gene\")\n",
    "nrow(hpa)\n",
    "head(hpa)"
   ]
  },
  {
   "cell_type": "markdown",
   "metadata": {},
   "source": [
    "## Write output file"
   ]
  },
  {
   "cell_type": "code",
   "execution_count": 16,
   "metadata": {},
   "outputs": [
    {
     "data": {
      "text/html": [
       "TRUE"
      ],
      "text/latex": [
       "TRUE"
      ],
      "text/markdown": [
       "TRUE"
      ],
      "text/plain": [
       "[1] TRUE"
      ]
     },
     "metadata": {},
     "output_type": "display_data"
    }
   ],
   "source": [
    "OUTPUT_FILE <- '../data/HPA/HPA.tsv'\n",
    "\n",
    "if (file.exists(OUTPUT_FILE)) {\n",
    "  file.remove(OUTPUT_FILE)\n",
    "}\n",
    "fwrite(hpa, file = OUTPUT_FILE, quote = T, sep = \"\\t\", col.names = T, row.names = F, na = \"None\")"
   ]
  }
 ],
 "metadata": {
  "kernelspec": {
   "display_name": "R",
   "language": "R",
   "name": "ir"
  },
  "language_info": {
   "codemirror_mode": "r",
   "file_extension": ".r",
   "mimetype": "text/x-r-source",
   "name": "R",
   "pygments_lexer": "r",
   "version": "3.4.2"
  }
 },
 "nbformat": 4,
 "nbformat_minor": 2
}
